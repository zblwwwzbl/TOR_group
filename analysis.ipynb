{
 "cells": [
  {
   "cell_type": "code",
   "execution_count": 2,
   "metadata": {},
   "outputs": [
    {
     "data": {
      "text/html": [
       "\n",
       "    <div class=\"bk-root\">\n",
       "        <a href=\"https://bokeh.org\" target=\"_blank\" class=\"bk-logo bk-logo-small bk-logo-notebook\"></a>\n",
       "        <span id=\"1002\">Loading BokehJS ...</span>\n",
       "    </div>"
      ]
     },
     "metadata": {},
     "output_type": "display_data"
    },
    {
     "data": {
      "application/javascript": "\n(function(root) {\n  function now() {\n    return new Date();\n  }\n\n  var force = true;\n\n  if (typeof root._bokeh_onload_callbacks === \"undefined\" || force === true) {\n    root._bokeh_onload_callbacks = [];\n    root._bokeh_is_loading = undefined;\n  }\n\n  var JS_MIME_TYPE = 'application/javascript';\n  var HTML_MIME_TYPE = 'text/html';\n  var EXEC_MIME_TYPE = 'application/vnd.bokehjs_exec.v0+json';\n  var CLASS_NAME = 'output_bokeh rendered_html';\n\n  /**\n   * Render data to the DOM node\n   */\n  function render(props, node) {\n    var script = document.createElement(\"script\");\n    node.appendChild(script);\n  }\n\n  /**\n   * Handle when an output is cleared or removed\n   */\n  function handleClearOutput(event, handle) {\n    var cell = handle.cell;\n\n    var id = cell.output_area._bokeh_element_id;\n    var server_id = cell.output_area._bokeh_server_id;\n    // Clean up Bokeh references\n    if (id != null && id in Bokeh.index) {\n      Bokeh.index[id].model.document.clear();\n      delete Bokeh.index[id];\n    }\n\n    if (server_id !== undefined) {\n      // Clean up Bokeh references\n      var cmd = \"from bokeh.io.state import curstate; print(curstate().uuid_to_server['\" + server_id + \"'].get_sessions()[0].document.roots[0]._id)\";\n      cell.notebook.kernel.execute(cmd, {\n        iopub: {\n          output: function(msg) {\n            var id = msg.content.text.trim();\n            if (id in Bokeh.index) {\n              Bokeh.index[id].model.document.clear();\n              delete Bokeh.index[id];\n            }\n          }\n        }\n      });\n      // Destroy server and session\n      var cmd = \"import bokeh.io.notebook as ion; ion.destroy_server('\" + server_id + \"')\";\n      cell.notebook.kernel.execute(cmd);\n    }\n  }\n\n  /**\n   * Handle when a new output is added\n   */\n  function handleAddOutput(event, handle) {\n    var output_area = handle.output_area;\n    var output = handle.output;\n\n    // limit handleAddOutput to display_data with EXEC_MIME_TYPE content only\n    if ((output.output_type != \"display_data\") || (!Object.prototype.hasOwnProperty.call(output.data, EXEC_MIME_TYPE))) {\n      return\n    }\n\n    var toinsert = output_area.element.find(\".\" + CLASS_NAME.split(' ')[0]);\n\n    if (output.metadata[EXEC_MIME_TYPE][\"id\"] !== undefined) {\n      toinsert[toinsert.length - 1].firstChild.textContent = output.data[JS_MIME_TYPE];\n      // store reference to embed id on output_area\n      output_area._bokeh_element_id = output.metadata[EXEC_MIME_TYPE][\"id\"];\n    }\n    if (output.metadata[EXEC_MIME_TYPE][\"server_id\"] !== undefined) {\n      var bk_div = document.createElement(\"div\");\n      bk_div.innerHTML = output.data[HTML_MIME_TYPE];\n      var script_attrs = bk_div.children[0].attributes;\n      for (var i = 0; i < script_attrs.length; i++) {\n        toinsert[toinsert.length - 1].firstChild.setAttribute(script_attrs[i].name, script_attrs[i].value);\n        toinsert[toinsert.length - 1].firstChild.textContent = bk_div.children[0].textContent\n      }\n      // store reference to server id on output_area\n      output_area._bokeh_server_id = output.metadata[EXEC_MIME_TYPE][\"server_id\"];\n    }\n  }\n\n  function register_renderer(events, OutputArea) {\n\n    function append_mime(data, metadata, element) {\n      // create a DOM node to render to\n      var toinsert = this.create_output_subarea(\n        metadata,\n        CLASS_NAME,\n        EXEC_MIME_TYPE\n      );\n      this.keyboard_manager.register_events(toinsert);\n      // Render to node\n      var props = {data: data, metadata: metadata[EXEC_MIME_TYPE]};\n      render(props, toinsert[toinsert.length - 1]);\n      element.append(toinsert);\n      return toinsert\n    }\n\n    /* Handle when an output is cleared or removed */\n    events.on('clear_output.CodeCell', handleClearOutput);\n    events.on('delete.Cell', handleClearOutput);\n\n    /* Handle when a new output is added */\n    events.on('output_added.OutputArea', handleAddOutput);\n\n    /**\n     * Register the mime type and append_mime function with output_area\n     */\n    OutputArea.prototype.register_mime_type(EXEC_MIME_TYPE, append_mime, {\n      /* Is output safe? */\n      safe: true,\n      /* Index of renderer in `output_area.display_order` */\n      index: 0\n    });\n  }\n\n  // register the mime type if in Jupyter Notebook environment and previously unregistered\n  if (root.Jupyter !== undefined) {\n    var events = require('base/js/events');\n    var OutputArea = require('notebook/js/outputarea').OutputArea;\n\n    if (OutputArea.prototype.mime_types().indexOf(EXEC_MIME_TYPE) == -1) {\n      register_renderer(events, OutputArea);\n    }\n  }\n\n  \n  if (typeof (root._bokeh_timeout) === \"undefined\" || force === true) {\n    root._bokeh_timeout = Date.now() + 5000;\n    root._bokeh_failed_load = false;\n  }\n\n  var NB_LOAD_WARNING = {'data': {'text/html':\n     \"<div style='background-color: #fdd'>\\n\"+\n     \"<p>\\n\"+\n     \"BokehJS does not appear to have successfully loaded. If loading BokehJS from CDN, this \\n\"+\n     \"may be due to a slow or bad network connection. Possible fixes:\\n\"+\n     \"</p>\\n\"+\n     \"<ul>\\n\"+\n     \"<li>re-rerun `output_notebook()` to attempt to load from CDN again, or</li>\\n\"+\n     \"<li>use INLINE resources instead, as so:</li>\\n\"+\n     \"</ul>\\n\"+\n     \"<code>\\n\"+\n     \"from bokeh.resources import INLINE\\n\"+\n     \"output_notebook(resources=INLINE)\\n\"+\n     \"</code>\\n\"+\n     \"</div>\"}};\n\n  function display_loaded() {\n    var el = document.getElementById(\"1002\");\n    if (el != null) {\n      el.textContent = \"BokehJS is loading...\";\n    }\n    if (root.Bokeh !== undefined) {\n      if (el != null) {\n        el.textContent = \"BokehJS \" + root.Bokeh.version + \" successfully loaded.\";\n      }\n    } else if (Date.now() < root._bokeh_timeout) {\n      setTimeout(display_loaded, 100)\n    }\n  }\n\n\n  function run_callbacks() {\n    try {\n      root._bokeh_onload_callbacks.forEach(function(callback) {\n        if (callback != null)\n          callback();\n      });\n    } finally {\n      delete root._bokeh_onload_callbacks\n    }\n    console.debug(\"Bokeh: all callbacks have finished\");\n  }\n\n  function load_libs(css_urls, js_urls, callback) {\n    if (css_urls == null) css_urls = [];\n    if (js_urls == null) js_urls = [];\n\n    root._bokeh_onload_callbacks.push(callback);\n    if (root._bokeh_is_loading > 0) {\n      console.debug(\"Bokeh: BokehJS is being loaded, scheduling callback at\", now());\n      return null;\n    }\n    if (js_urls == null || js_urls.length === 0) {\n      run_callbacks();\n      return null;\n    }\n    console.debug(\"Bokeh: BokehJS not loaded, scheduling load and callback at\", now());\n    root._bokeh_is_loading = css_urls.length + js_urls.length;\n\n    function on_load() {\n      root._bokeh_is_loading--;\n      if (root._bokeh_is_loading === 0) {\n        console.debug(\"Bokeh: all BokehJS libraries/stylesheets loaded\");\n        run_callbacks()\n      }\n    }\n\n    function on_error(url) {\n      console.error(\"failed to load \" + url);\n    }\n\n    for (let i = 0; i < css_urls.length; i++) {\n      const url = css_urls[i];\n      const element = document.createElement(\"link\");\n      element.onload = on_load;\n      element.onerror = on_error.bind(null, url);\n      element.rel = \"stylesheet\";\n      element.type = \"text/css\";\n      element.href = url;\n      console.debug(\"Bokeh: injecting link tag for BokehJS stylesheet: \", url);\n      document.body.appendChild(element);\n    }\n\n    const hashes = {\"https://cdn.bokeh.org/bokeh/release/bokeh-2.3.2.min.js\": \"XypntL49z55iwGVUW4qsEu83zKL3XEcz0MjuGOQ9SlaaQ68X/g+k1FcioZi7oQAc\", \"https://cdn.bokeh.org/bokeh/release/bokeh-tables-2.3.2.min.js\": \"bEsM86IHGDTLCS0Zod8a8WM6Y4+lafAL/eSiyQcuPzinmWNgNO2/olUF0Z2Dkn5i\", \"https://cdn.bokeh.org/bokeh/release/bokeh-widgets-2.3.2.min.js\": \"TX0gSQTdXTTeScqxj6PVQxTiRW8DOoGVwinyi1D3kxv7wuxQ02XkOxv0xwiypcAH\"};\n\n    for (let i = 0; i < js_urls.length; i++) {\n      const url = js_urls[i];\n      const element = document.createElement('script');\n      element.onload = on_load;\n      element.onerror = on_error.bind(null, url);\n      element.async = false;\n      element.src = url;\n      if (url in hashes) {\n        element.crossOrigin = \"anonymous\";\n        element.integrity = \"sha384-\" + hashes[url];\n      }\n      console.debug(\"Bokeh: injecting script tag for BokehJS library: \", url);\n      document.head.appendChild(element);\n    }\n  };\n\n  function inject_raw_css(css) {\n    const element = document.createElement(\"style\");\n    element.appendChild(document.createTextNode(css));\n    document.body.appendChild(element);\n  }\n\n  \n  var js_urls = [\"https://cdn.bokeh.org/bokeh/release/bokeh-2.3.2.min.js\", \"https://cdn.bokeh.org/bokeh/release/bokeh-widgets-2.3.2.min.js\", \"https://cdn.bokeh.org/bokeh/release/bokeh-tables-2.3.2.min.js\"];\n  var css_urls = [];\n  \n\n  var inline_js = [\n    function(Bokeh) {\n      Bokeh.set_log_level(\"info\");\n    },\n    function(Bokeh) {\n    \n    \n    }\n  ];\n\n  function run_inline_js() {\n    \n    if (root.Bokeh !== undefined || force === true) {\n      \n    for (var i = 0; i < inline_js.length; i++) {\n      inline_js[i].call(root, root.Bokeh);\n    }\n    if (force === true) {\n        display_loaded();\n      }} else if (Date.now() < root._bokeh_timeout) {\n      setTimeout(run_inline_js, 100);\n    } else if (!root._bokeh_failed_load) {\n      console.log(\"Bokeh: BokehJS failed to load within specified timeout.\");\n      root._bokeh_failed_load = true;\n    } else if (force !== true) {\n      var cell = $(document.getElementById(\"1002\")).parents('.cell').data().cell;\n      cell.output_area.append_execute_result(NB_LOAD_WARNING)\n    }\n\n  }\n\n  if (root._bokeh_is_loading === 0) {\n    console.debug(\"Bokeh: BokehJS loaded, going straight to plotting\");\n    run_inline_js();\n  } else {\n    load_libs(css_urls, js_urls, function() {\n      console.debug(\"Bokeh: BokehJS plotting callback run at\", now());\n      run_inline_js();\n    });\n  }\n}(window));",
      "application/vnd.bokehjs_load.v0+json": ""
     },
     "metadata": {},
     "output_type": "display_data"
    }
   ],
   "source": [
    "from bokeh.models import ColumnDataSource, CategoricalColorMapper\n",
    "from bokeh.plotting import figure, show\n",
    "from bokeh.io import output_notebook\n",
    "import numpy as np\n",
    "import pandas as pd\n",
    "output_notebook()"
   ]
  },
  {
   "cell_type": "code",
   "execution_count": 112,
   "metadata": {},
   "outputs": [],
   "source": [
    "# l2 = pd.read_csv(\"l2_res.csv\")\n",
    "# builtin = pd.read_csv(\"builtin_res.csv\")\n",
    "total = pd.read_csv(\"res.csv\")\n",
    "logb = pd.read_csv(\"log_res.csv\")  "
   ]
  },
  {
   "cell_type": "code",
   "execution_count": 113,
   "metadata": {},
   "outputs": [],
   "source": [
    "# mapper = {2:\"BFGS\", 5:\"BFGS, restart=5\", 6:\"BFGS, restart=10\"}\n",
    "mapper = {2:\"BFGS\", 5:\"ASD\", 3:\"SD\", 4:\"Built in\"}\n",
    "logmapper = {1:\"BFGS_logb\", 2:\"BFGS_l2\", 3:\"SD\", 4:\"Built in\", 5:\"ASD\"}\n",
    "datas = {}\n",
    "logdatas = {}\n",
    "for i in mapper:\n",
    "    datas[mapper[i]] = total[total['type'] == i]\n",
    "for i in logmapper:\n",
    "    logdatas[logmapper[i]] = logb[logb['type'] == i]\n",
    "# datas['Built in'] = datas['Built in'][datas['Built in']['fmin'] < 0]"
   ]
  },
  {
   "cell_type": "code",
   "execution_count": 73,
   "metadata": {},
   "outputs": [
    {
     "data": {
      "text/html": [
       "<div>\n",
       "<style scoped>\n",
       "    .dataframe tbody tr th:only-of-type {\n",
       "        vertical-align: middle;\n",
       "    }\n",
       "\n",
       "    .dataframe tbody tr th {\n",
       "        vertical-align: top;\n",
       "    }\n",
       "\n",
       "    .dataframe thead th {\n",
       "        text-align: right;\n",
       "    }\n",
       "</style>\n",
       "<table border=\"1\" class=\"dataframe\">\n",
       "  <thead>\n",
       "    <tr style=\"text-align: right;\">\n",
       "      <th></th>\n",
       "      <th>type</th>\n",
       "      <th>size</th>\n",
       "      <th>x1</th>\n",
       "      <th>x2</th>\n",
       "      <th>fmin</th>\n",
       "      <th>time</th>\n",
       "    </tr>\n",
       "  </thead>\n",
       "  <tbody>\n",
       "  </tbody>\n",
       "</table>\n",
       "</div>"
      ],
      "text/plain": [
       "Empty DataFrame\n",
       "Columns: [type, size, x1, x2, fmin, time]\n",
       "Index: []"
      ]
     },
     "execution_count": 73,
     "metadata": {},
     "output_type": "execute_result"
    }
   ],
   "source": [
    "datas['Built in'][datas['Built in']['fmin'] > 0]"
   ]
  },
  {
   "cell_type": "code",
   "execution_count": 70,
   "metadata": {},
   "outputs": [
    {
     "data": {
      "text/plain": [
       "{'BFGS': type      0.000000\n",
       " size    288.949795\n",
       " x1        0.598407\n",
       " x2        0.287852\n",
       " fmin      0.275108\n",
       " time      2.155637\n",
       " dtype: float64,\n",
       " 'Built in': type      0.000000\n",
       " size    288.949795\n",
       " x1        0.665250\n",
       " x2        0.331713\n",
       " fmin      0.282948\n",
       " time      0.118019\n",
       " dtype: float64,\n",
       " 'Built in, restart=5': type      0.000000\n",
       " size    288.949795\n",
       " x1        0.671849\n",
       " x2        0.339088\n",
       " fmin      0.285094\n",
       " time      0.447098\n",
       " dtype: float64,\n",
       " 'Built in, restart=10': type      0.000000\n",
       " size    288.949795\n",
       " x1        0.674137\n",
       " x2        0.332275\n",
       " fmin      0.283786\n",
       " time      0.944994\n",
       " dtype: float64}"
      ]
     },
     "execution_count": 70,
     "metadata": {},
     "output_type": "execute_result"
    }
   ],
   "source": [
    "vars = {}\n",
    "for type in datas:\n",
    "    vars[type] = datas[type].std()\n",
    "vars"
   ]
  },
  {
   "cell_type": "code",
   "execution_count": 114,
   "metadata": {},
   "outputs": [],
   "source": [
    "bests = {}\n",
    "avgs = {}\n",
    "vars = {}\n",
    "emas = {}\n",
    "for type in datas:\n",
    "    bests[type] = datas[type].groupby(['size']).min()\n",
    "    avgs[type] = datas[type].groupby(['size']).mean()\n",
    "    vars[type] = datas[type].groupby(['size']).std()\n",
    "emas = pd.DataFrame({type:avgs[type].fmin for type in datas}).ewm(com=5).mean()\n",
    "avgsLog = {}\n",
    "for type in logdatas:\n",
    "    avgsLog[type] = logdatas[type].groupby(['size']).mean()"
   ]
  },
  {
   "cell_type": "code",
   "execution_count": 97,
   "metadata": {},
   "outputs": [
    {
     "data": {
      "text/plain": [
       "type    6.000000\n",
       "x1     -0.006593\n",
       "x2      0.642593\n",
       "fmin   -0.166393\n",
       "time    2.524735\n",
       "dtype: float64"
      ]
     },
     "execution_count": 97,
     "metadata": {},
     "output_type": "execute_result"
    }
   ],
   "source": [
    "# avgs[\"BFGS\"][avgs[\"BFGS\"].index > 700].mean()\n",
    "avgs[\"Built in, restart=10\"][avgs[\"Built in, restart=10\"].index > 700].mean()"
   ]
  },
  {
   "cell_type": "code",
   "execution_count": 57,
   "metadata": {},
   "outputs": [],
   "source": [
    "ratio_greater = avgs[\"BFGS\"]/avgs[\"Built in\"]"
   ]
  },
  {
   "cell_type": "code",
   "execution_count": 115,
   "metadata": {},
   "outputs": [
    {
     "data": {
      "text/html": [
       "\n",
       "\n",
       "\n",
       "\n",
       "\n",
       "\n",
       "  <div class=\"bk-root\" id=\"02f73a48-c822-4bc6-8533-1f9f91924fe8\" data-root-id=\"27194\"></div>\n"
      ]
     },
     "metadata": {},
     "output_type": "display_data"
    },
    {
     "data": {
      "application/javascript": "(function(root) {\n  function embed_document(root) {\n    \n  var docs_json = {\"0b07ac5e-d7c1-483e-a764-df5eee788c9e\":{\"defs\":[],\"roots\":{\"references\":[{\"attributes\":{\"below\":[{\"id\":\"27205\"}],\"center\":[{\"id\":\"27208\"},{\"id\":\"27212\"},{\"id\":\"27242\"}],\"left\":[{\"id\":\"27209\"}],\"renderers\":[{\"id\":\"27230\"},{\"id\":\"27247\"},{\"id\":\"27265\"},{\"id\":\"27285\"}],\"title\":{\"id\":\"27195\"},\"toolbar\":{\"id\":\"27220\"},\"width\":900,\"x_range\":{\"id\":\"27197\"},\"x_scale\":{\"id\":\"27201\"},\"y_range\":{\"id\":\"27199\"},\"y_scale\":{\"id\":\"27203\"}},\"id\":\"27194\",\"subtype\":\"Figure\",\"type\":\"Plot\"},{\"attributes\":{\"items\":[{\"id\":\"27243\"},{\"id\":\"27261\"},{\"id\":\"27281\"},{\"id\":\"27303\"}],\"location\":\"top_left\"},\"id\":\"27242\",\"type\":\"Legend\"},{\"attributes\":{\"data_source\":{\"id\":\"27282\"},\"glyph\":{\"id\":\"27283\"},\"hover_glyph\":null,\"muted_glyph\":null,\"nonselection_glyph\":{\"id\":\"27284\"},\"view\":{\"id\":\"27286\"}},\"id\":\"27285\",\"type\":\"GlyphRenderer\"},{\"attributes\":{\"data_source\":{\"id\":\"27262\"},\"glyph\":{\"id\":\"27263\"},\"hover_glyph\":null,\"muted_glyph\":null,\"nonselection_glyph\":{\"id\":\"27264\"},\"view\":{\"id\":\"27266\"}},\"id\":\"27265\",\"type\":\"GlyphRenderer\"},{\"attributes\":{},\"id\":\"27234\",\"type\":\"BasicTickFormatter\"},{\"attributes\":{\"line_alpha\":0.1,\"line_color\":\"red\",\"x\":{\"field\":\"x\"},\"y\":{\"field\":\"y\"}},\"id\":\"27229\",\"type\":\"Line\"},{\"attributes\":{\"label\":{\"value\":\"SD\"},\"renderers\":[{\"id\":\"27265\"}]},\"id\":\"27281\",\"type\":\"LegendItem\"},{\"attributes\":{\"text\":\"avg run time\"},\"id\":\"27195\",\"type\":\"Title\"},{\"attributes\":{\"bottom_units\":\"screen\",\"fill_alpha\":0.5,\"fill_color\":\"lightgrey\",\"left_units\":\"screen\",\"level\":\"overlay\",\"line_alpha\":1.0,\"line_color\":\"black\",\"line_dash\":[4,4],\"line_width\":2,\"right_units\":\"screen\",\"syncable\":false,\"top_units\":\"screen\"},\"id\":\"27219\",\"type\":\"BoxAnnotation\"},{\"attributes\":{},\"id\":\"27301\",\"type\":\"UnionRenderers\"},{\"attributes\":{},\"id\":\"27197\",\"type\":\"DataRange1d\"},{\"attributes\":{},\"id\":\"27203\",\"type\":\"LinearScale\"},{\"attributes\":{},\"id\":\"27236\",\"type\":\"AllLabels\"},{\"attributes\":{\"axis_label\":\"|Y|\",\"formatter\":{\"id\":\"27237\"},\"major_label_policy\":{\"id\":\"27236\"},\"ticker\":{\"id\":\"27206\"}},\"id\":\"27205\",\"type\":\"LinearAxis\"},{\"attributes\":{},\"id\":\"27240\",\"type\":\"UnionRenderers\"},{\"attributes\":{},\"id\":\"27279\",\"type\":\"UnionRenderers\"},{\"attributes\":{},\"id\":\"27199\",\"type\":\"DataRange1d\"},{\"attributes\":{\"label\":{\"value\":\"ASD\"},\"renderers\":[{\"id\":\"27247\"}]},\"id\":\"27261\",\"type\":\"LegendItem\"},{\"attributes\":{},\"id\":\"27302\",\"type\":\"Selection\"},{\"attributes\":{},\"id\":\"27201\",\"type\":\"LinearScale\"},{\"attributes\":{},\"id\":\"27237\",\"type\":\"BasicTickFormatter\"},{\"attributes\":{\"source\":{\"id\":\"27244\"}},\"id\":\"27248\",\"type\":\"CDSView\"},{\"attributes\":{},\"id\":\"27280\",\"type\":\"Selection\"},{\"attributes\":{},\"id\":\"27206\",\"type\":\"BasicTicker\"},{\"attributes\":{},\"id\":\"27241\",\"type\":\"Selection\"},{\"attributes\":{},\"id\":\"27259\",\"type\":\"UnionRenderers\"},{\"attributes\":{\"axis\":{\"id\":\"27205\"},\"ticker\":null},\"id\":\"27208\",\"type\":\"Grid\"},{\"attributes\":{},\"id\":\"27214\",\"type\":\"WheelZoomTool\"},{\"attributes\":{\"axis_label\":\"avg run time(s)\",\"formatter\":{\"id\":\"27234\"},\"major_label_policy\":{\"id\":\"27233\"},\"ticker\":{\"id\":\"27210\"}},\"id\":\"27209\",\"type\":\"LinearAxis\"},{\"attributes\":{},\"id\":\"27260\",\"type\":\"Selection\"},{\"attributes\":{\"axis\":{\"id\":\"27209\"},\"dimension\":1,\"ticker\":null},\"id\":\"27212\",\"type\":\"Grid\"},{\"attributes\":{\"data_source\":{\"id\":\"27227\"},\"glyph\":{\"id\":\"27228\"},\"hover_glyph\":null,\"muted_glyph\":null,\"nonselection_glyph\":{\"id\":\"27229\"},\"view\":{\"id\":\"27231\"}},\"id\":\"27230\",\"type\":\"GlyphRenderer\"},{\"attributes\":{},\"id\":\"27210\",\"type\":\"BasicTicker\"},{\"attributes\":{\"active_multi\":null,\"tools\":[{\"id\":\"27213\"},{\"id\":\"27214\"},{\"id\":\"27215\"},{\"id\":\"27216\"},{\"id\":\"27217\"},{\"id\":\"27218\"}]},\"id\":\"27220\",\"type\":\"Toolbar\"},{\"attributes\":{},\"id\":\"27218\",\"type\":\"HelpTool\"},{\"attributes\":{},\"id\":\"27213\",\"type\":\"PanTool\"},{\"attributes\":{\"x\":{\"field\":\"x\"},\"y\":{\"field\":\"y\"}},\"id\":\"27283\",\"type\":\"Line\"},{\"attributes\":{\"overlay\":{\"id\":\"27219\"}},\"id\":\"27215\",\"type\":\"BoxZoomTool\"},{\"attributes\":{\"data\":{\"x\":[1,11,21,31,41,51,61,71,81,91,101,111,121,131,141,151,161,171,181,191,201,211,221,231,241,251,261,271,281,291,301,311,321,331,341,351,361,371,381,391,401,411,421,431,441,451,461,471,481,491,501,511,521,531,541,551,561,571,581,591,601,611,621,631,641,651,661,671,681,691,701,711,721,731,741,751,761,771,781,791,801,811,821,831,841,851,861,871,881,891,901,911,921,931,941,951,961,971,981,991],\"y\":{\"__ndarray__\":\"gzlKeqlzwT8IT5EZaZaXP1bU3isslJ4/oCU9hOAVoD/nwmbO40GkP5BrhLzlfKA/jjhKQSMPoj8wq+SdayqkP2U/LA8idqY/jHQ7ymxIpD8QutpDKNqkP1J8tKO1fKk/JcsRxz2DqT+KoLwXcHKpP2ptUjyr36Q/fRZyxmNPsT9IEJl3NlKuP5x+25vw7rA/ADLustHMsT8L9OmudXSsPwJ2zd50b7E/5koAXwrGsj/A7TSSN9KxP6fAxev6PLc/k7LY7CBktD99FPE/uZLVP87vaB193rk/ThLRA60ttT+9vQM2QuO3P3KPIyEDVbk/e9Xg+6/ztj/aJ7jDo2e3P65vspWour0/AkrSXH83vj/kSvwTlfu3Py1aqzYyobk/O+fB+tOPvj8ZydDI1qDDPwahcgKJ3Lk/PfZc6oxdvT+TnibS/WW7P1BcN+kic8A/9vOmIhVGuj/LJMetazO/P9I2TB31qsE/LvzpElj4wj8dvD5Ro7nRP7u+kaxD9sA/sl8cAYGzyj+zlznaAlTDP3cXRn8KNcA/bLQc6KE2xj8rcydbk5zPPwjSR0zQZ8g/JlIccx5WxT82PRtHYgHJP0s7NZcbjME/vu/S21WHxj8GpGWqBdLEPybSiCFKF8U/A5Hd/yLMzT9agcbx6GvKP1kN4OkpxMg/s8LwchFWwT/PvENip0XJP7h6gkeKVtw/+C49lMOLxT/y1hcOJvPGP2oRhRmJPsk/ru6Vz6unzT9VnZRU7STLPwywwxsId8U/8Jika0th0D+zCOxCmIjNP4oYWMI4yss/gdbxGJR70D8y4bEFX73LP8C03BwdZdA/anrKX9omzj9Q+aMlILjMP9kZ8EPv/tA/1mcYiK9Ayz+PHKpfKS/TP8yGXoI4b9A/3h7DLd8W0z/8NsR4zWvRP2iBkpMkp9I/4N6Qob6AzT85p/qb9cXIP8xeQyOp+9I/NTFfiQBa1D870NLzONXTP3UVhErS8NE/2jPhHTSJ0T8tcpnkkenQP1ILJZNTm9M/AcjKZePl0D/zNK5ohNHNP44H3ZExP9Y/ApqVoJDz0D8=\",\"dtype\":\"float64\",\"order\":\"little\",\"shape\":[100]}},\"selected\":{\"id\":\"27302\"},\"selection_policy\":{\"id\":\"27301\"}},\"id\":\"27282\",\"type\":\"ColumnDataSource\"},{\"attributes\":{},\"id\":\"27216\",\"type\":\"SaveTool\"},{\"attributes\":{\"data\":{\"x\":[1,11,21,31,41,51,61,71,81,91,101,111,121,131,141,151,161,171,181,191,201,211,221,231,241,251,261,271,281,291,301,311,321,331,341,351,361,371,381,391,401,411,421,431,441,451,461,471,481,491,501,511,521,531,541,551,561,571,581,591,601,611,621,631,641,651,661,671,681,691,701,711,721,731,741,751,761,771,781,791,801,811,821,831,841,851,861,871,881,891,901,911,921,931,941,951,961,971,981,991],\"y\":{\"__ndarray__\":\"u4qvr5oLwz/bonFNJpO3P6I4Xd2MtsE/yKGY2Xu6vT+j3mmwPTO+P2HJc4LYx8A/8lquI7Mfxz+NekeY6ajDPxLpH0pZIsk/y7mSsVoYwz8ZxzsVJmvQPy6Y7w07FM0/uh6wIo+21z89h05g1fjSP7CHDnMdWd4/kz8CuH6+0z+NKpzMU1DUPz7cxH9wVNM/F506u+ZR4D9uzG0ufjvRP9CbY2hQ59M/PGhP8ZNd0z+VOSX+8lLeP39ptzgPUOc/sjJbp0qq1D8PR/FPxFnVPyZk/S3cVdc/AAMC06n/5D/Ev76MGNzhP1XHhV7ay9g/IYFNAgXy9T+q9BPObt3mP1CAmREUFts/RjOtjezj4j80ma/jH+ziPyqo56f4W+A/zrI1h9Ur7T/3eVomTbjhP/ANm49G0e4/Fn2cqUs/4D+NRm9W01XmPwG1O92eBOE/AqZ0tiWu3j+i0fbXBiHaP7Lx+vGyPeY/RnWHQ2AE6T/YzZde7Lv3P5Bk9DL64PY/BnxUven3AkBmKiq9G9TvP1DA3MmM4OA/i+QSm9TW5T/PB2kcWscFQGrQjbWqWfI/lcj0Ophz5z876kp1kWPxPxG5I5cUg/c/8Y9ZZwyc9j/jOwr//XzuP/zZA/3iHghAehkEIK746z8C//3pyxnpP87tbxrsmxFAz4JQ3sch9z+yWczM53zqP/0xYJr4Q/4/kP+S7MJj7D8SrBNXWu36P+X2zk172PU/+J4oSRJN/D8857FhYnf0P7ALN343Le0/MCb9vRQqBkD9mzdZoWcLQC76VF+nVgJAwKjZ0k4d+j+eO1E8bTDyP/oqVJLQMfc/dTl9s0hw6z/culX30830P3rx0P+DfRtAUuC5iIqo9j+/h9el6ZMFQJuj9CfW4v4/E1ZmL7sd/T8DUWvqmcIBQB7mLcgmEvM/CAmsdxOfAUBWYqWYuAP8PyCzAJwI2vg/h7gMFIUFBECrQwM0N8YXQN5Z1NMCNfM/6TC6F/Ne9j/S+uTzTbQFQHPeCfFdSgBAVSPG+wlAD0AeXj0SIvkEQIqsz/qvsvU/SvqUWBsEAEA=\",\"dtype\":\"float64\",\"order\":\"little\",\"shape\":[100]}},\"selected\":{\"id\":\"27241\"},\"selection_policy\":{\"id\":\"27240\"}},\"id\":\"27227\",\"type\":\"ColumnDataSource\"},{\"attributes\":{\"line_alpha\":0.1,\"line_color\":\"blue\",\"x\":{\"field\":\"x\"},\"y\":{\"field\":\"y\"}},\"id\":\"27246\",\"type\":\"Line\"},{\"attributes\":{},\"id\":\"27217\",\"type\":\"ResetTool\"},{\"attributes\":{\"source\":{\"id\":\"27282\"}},\"id\":\"27286\",\"type\":\"CDSView\"},{\"attributes\":{\"line_color\":\"green\",\"x\":{\"field\":\"x\"},\"y\":{\"field\":\"y\"}},\"id\":\"27263\",\"type\":\"Line\"},{\"attributes\":{\"data_source\":{\"id\":\"27244\"},\"glyph\":{\"id\":\"27245\"},\"hover_glyph\":null,\"muted_glyph\":null,\"nonselection_glyph\":{\"id\":\"27246\"},\"view\":{\"id\":\"27248\"}},\"id\":\"27247\",\"type\":\"GlyphRenderer\"},{\"attributes\":{\"source\":{\"id\":\"27227\"}},\"id\":\"27231\",\"type\":\"CDSView\"},{\"attributes\":{\"data\":{\"x\":[1,11,21,31,41,51,61,71,81,91,101,111,121,131,141,151,161,171,181,191,201,211,221,231,241,251,261,271,281,291,301,311,321,331,341,351,361,371,381,391,401,411,421,431,441,451,461,471,481,491,501,511,521,531,541,551,561,571,581,591,601,611,621,631,641,651,661,671,681,691,701,711,721,731,741,751,761,771,781,791,801,811,821,831,841,851,861,871,881,891,901,911,921,931,941,951,961,971,981,991],\"y\":{\"__ndarray__\":\"c7IeCNqO+z8o00GGaXLPP2hDQG30i+s/DhbdWBoBzz9r199tOTLNP1Hghbvf8tQ/vUhMv6kw2z+boemKqBnkPwri8g6m9+A/vs9PsaUw4z+2oPfGEGDmPz21YITV8eE/Bmh32Upn4z/97ZZTZ0bjP6eOrd3xI+I/omeaBLSz5z9j2cFB8W3wP6UXAq/Af+Y/cgilQ7HC4T9+OC+iMnToPw3T4VoSdOo/u7A1W3k56j/9kxTpGerlP1qNzRhr0vc/zUhzGli94z8DjmOwkpL4P8ugJ5SvE/U/cTArPkTm8D/UC4uANBvzP9rCfI0uRP4/n8a29gmi8j8Ay0qTUtDtPxOQC9sKcu0/EI9bDFnO/T84f/4ABRX0P0vpkltey/U/imR+JNuX8z/6Ohnyycf0P1iQbS+e7wBAen2cHzWk+z+l+PGB6BvzPwCAUqNGGwRAAx62g4Ge+j/6ui9XHSoAQEdtXdDU7QRA/HBmta2vA0D1mJn5VG35P+kq1lpjZgZAmEdySTIvAUDdiqzV2NIHQM3qARlY1AJAmzrA6DrjEEAiMZmgAdL+P7zLx2qBfQRAVG7M8R3rA0Badqixu+cBQM/gey9hqAJAWpjPA2m0AkBtystQy+3+PyflzkGZPwJA2fTBZd53EUCCOibJOqwSQCogQTbvnQFAD4OFQxJRA0ByLPOHu6YDQG3M8otHdwVAll3V/nNxAEBupGyRtFMIQFaneNSHgBJA09/eRBNB/D/4B1aFqeECQLu1KS6wigdA1s7Dz1d+BEB2RCAIIHIJQGIxNw7mAgFAuNf3WVSyFEDR8QlEzM8WQMDnLFhPggdAhoAi44juFUBR/U4NlyQFQNNIS+XtdABAc6hBQiSwD0Cz92egoDYCQNotTYN+KBVAaE71pIcOAEAz5sjnqVkTQE0jDNDtTBFA1sQ6wBAoAEC6iK7N/+cSQD4PHy0WdwxAyHeUx62eGEC3aCKfIKIQQOUjlDtG7BFAwMF8CBqWG0CGfcegti0VQDriC/n5HQ5AgGSVLe0PE0CFPPYDexISQKuuGdrtjA9AWBVjFf09AEA=\",\"dtype\":\"float64\",\"order\":\"little\",\"shape\":[100]}},\"selected\":{\"id\":\"27280\"},\"selection_policy\":{\"id\":\"27279\"}},\"id\":\"27262\",\"type\":\"ColumnDataSource\"},{\"attributes\":{\"line_color\":\"red\",\"x\":{\"field\":\"x\"},\"y\":{\"field\":\"y\"}},\"id\":\"27228\",\"type\":\"Line\"},{\"attributes\":{\"line_alpha\":0.1,\"x\":{\"field\":\"x\"},\"y\":{\"field\":\"y\"}},\"id\":\"27284\",\"type\":\"Line\"},{\"attributes\":{\"line_color\":\"blue\",\"x\":{\"field\":\"x\"},\"y\":{\"field\":\"y\"}},\"id\":\"27245\",\"type\":\"Line\"},{\"attributes\":{\"data\":{\"x\":[1,11,21,31,41,51,61,71,81,91,101,111,121,131,141,151,161,171,181,191,201,211,221,231,241,251,261,271,281,291,301,311,321,331,341,351,361,371,381,391,401,411,421,431,441,451,461,471,481,491,501,511,521,531,541,551,561,571,581,591,601,611,621,631,641,651,661,671,681,691,701,711,721,731,741,751,761,771,781,791,801,811,821,831,841,851,861,871,881,891,901,911,921,931,941,951,961,971,981,991],\"y\":{\"__ndarray__\":\"ck+dJ5OE8T+t2iAYoc75PxhwiIzd0uo/HhXxcTwr8D+HuhogIpv0P32/+6AznPg/rTzxctJ48D/q3KPtTt3mP5XP1jCoR/o/ODDAVGhW+T+dexp31JbvP26rwib3Yvs/PYp2+iHk7j/5bBYZ6FzwP2WGQP8T1O4/+kfYoWX3+D9u0zJhGq/0P+DE61W/zfM/89XimIs9/D8yjtCZdG/0PwN4cb1SB/g/a7BijN7V8D9M8wI8xqkBQHkbccJxAgJAGijmJepJ9T/sMPWegoMFQLfaedENM/Q/eUgRDr+sBEBtdTklIHb6P3NKTlLK9/E/Gq2m0FmU+z/gJSfJKYj/P2o9wkmP2Pw/YkuWqX4jBUD2jOKrjcQEQDOarRyge/o/cO7ZeS66BkD69gn70RMLQLbIsUUvPwlAUa9R23ElEUBtK2ZaXPj7P1o5m5mXwgRAMhrrtto3+j93+DG+neIRQEPCHjTuLgtAtk7H4DtCEUC2jjY+NrEDQG8vL5gthRBA/YMlLukrB0AwtLUkmaMHQGXf5GLECQpATWn9LQHo9D9z0vvG1yIIQJp73zhklAVARj8TS5ViDUA1ca5GVrgMQPogP2vblAFAaZAAuTY8B0Cwf43asykLQF7wKFexHhFABY127IkxAEBZPFcF+s0IQHkfFhUprAJAz17HyQ5L+D+TQg9r4JUNQDitXyK6eRBAlNB2QUZpBUDM54E0CPwFQBqTFo5mhAlA2BU6xd+EC0ALFtlWxEIRQAktyjnoXxJAVH6pyZIICECtQlqNK9EIQNthM8ucEQlA76fGSzflCEDzec984+MJQOkfZGTHjQRAUBRj/86AD0BCh1uvebIIQKp3+6cwdgBA4jYA/pVgGUBeKcQNw1EAQHjlinS+BxRAIzBUSdY9C0ASgUKzZtUPQLrmCn3UFRBAfuAqTyC4DUAb68h0VLwQQLLtxM6TmhNA9so3QS12EkDGdOdh1gURQAi7rPujkxZAPz98d6yCFkBVjL78sSwNQGPoPJEF4xFAWmoYmduAB0D2WWWmtBYKQN5FThVCiQpAhqEfVzTfE0A=\",\"dtype\":\"float64\",\"order\":\"little\",\"shape\":[100]}},\"selected\":{\"id\":\"27260\"},\"selection_policy\":{\"id\":\"27259\"}},\"id\":\"27244\",\"type\":\"ColumnDataSource\"},{\"attributes\":{\"source\":{\"id\":\"27262\"}},\"id\":\"27266\",\"type\":\"CDSView\"},{\"attributes\":{},\"id\":\"27233\",\"type\":\"AllLabels\"},{\"attributes\":{\"line_alpha\":0.1,\"line_color\":\"green\",\"x\":{\"field\":\"x\"},\"y\":{\"field\":\"y\"}},\"id\":\"27264\",\"type\":\"Line\"},{\"attributes\":{\"label\":{\"value\":\"Built in\"},\"renderers\":[{\"id\":\"27285\"}]},\"id\":\"27303\",\"type\":\"LegendItem\"},{\"attributes\":{\"label\":{\"value\":\"BFGS\"},\"renderers\":[{\"id\":\"27230\"}]},\"id\":\"27243\",\"type\":\"LegendItem\"}],\"root_ids\":[\"27194\"]},\"title\":\"Bokeh Application\",\"version\":\"2.3.2\"}};\n  var render_items = [{\"docid\":\"0b07ac5e-d7c1-483e-a764-df5eee788c9e\",\"root_ids\":[\"27194\"],\"roots\":{\"27194\":\"02f73a48-c822-4bc6-8533-1f9f91924fe8\"}}];\n  root.Bokeh.embed.embed_items_notebook(docs_json, render_items);\n\n  }\n  if (root.Bokeh !== undefined) {\n    embed_document(root);\n  } else {\n    var attempts = 0;\n    var timer = setInterval(function(root) {\n      if (root.Bokeh !== undefined) {\n        clearInterval(timer);\n        embed_document(root);\n      } else {\n        attempts++;\n        if (attempts > 100) {\n          clearInterval(timer);\n          console.log(\"Bokeh: ERROR: Unable to run BokehJS code because BokehJS library is missing\");\n        }\n      }\n    }, 10, root)\n  }\n})(window);",
      "application/vnd.bokehjs_exec.v0+json": ""
     },
     "metadata": {
      "application/vnd.bokehjs_exec.v0+json": {
       "id": "27194"
      }
     },
     "output_type": "display_data"
    },
    {
     "data": {
      "text/html": [
       "\n",
       "\n",
       "\n",
       "\n",
       "\n",
       "\n",
       "  <div class=\"bk-root\" id=\"32525657-1ec1-4768-962b-93262fe1288d\" data-root-id=\"28140\"></div>\n"
      ]
     },
     "metadata": {},
     "output_type": "display_data"
    },
    {
     "data": {
      "application/javascript": "(function(root) {\n  function embed_document(root) {\n    \n  var docs_json = {\"36470d74-d249-4261-8982-3b622e725a61\":{\"defs\":[],\"roots\":{\"references\":[{\"attributes\":{\"below\":[{\"id\":\"28151\"}],\"center\":[{\"id\":\"28154\"},{\"id\":\"28158\"},{\"id\":\"28188\"}],\"left\":[{\"id\":\"28155\"}],\"renderers\":[{\"id\":\"28176\"},{\"id\":\"28193\"},{\"id\":\"28211\"},{\"id\":\"28231\"}],\"title\":{\"id\":\"28141\"},\"toolbar\":{\"id\":\"28166\"},\"width\":900,\"x_range\":{\"id\":\"28143\"},\"x_scale\":{\"id\":\"28147\"},\"y_range\":{\"id\":\"28145\"},\"y_scale\":{\"id\":\"28149\"}},\"id\":\"28140\",\"subtype\":\"Figure\",\"type\":\"Plot\"},{\"attributes\":{},\"id\":\"28159\",\"type\":\"PanTool\"},{\"attributes\":{},\"id\":\"28226\",\"type\":\"Selection\"},{\"attributes\":{\"overlay\":{\"id\":\"28165\"}},\"id\":\"28161\",\"type\":\"BoxZoomTool\"},{\"attributes\":{},\"id\":\"28182\",\"type\":\"AllLabels\"},{\"attributes\":{},\"id\":\"28162\",\"type\":\"SaveTool\"},{\"attributes\":{\"line_color\":\"red\",\"x\":{\"field\":\"x\"},\"y\":{\"field\":\"y\"}},\"id\":\"28174\",\"type\":\"Line\"},{\"attributes\":{},\"id\":\"28163\",\"type\":\"ResetTool\"},{\"attributes\":{\"source\":{\"id\":\"28173\"}},\"id\":\"28177\",\"type\":\"CDSView\"},{\"attributes\":{\"text\":\"minimum f value \"},\"id\":\"28141\",\"type\":\"Title\"},{\"attributes\":{},\"id\":\"28183\",\"type\":\"BasicTickFormatter\"},{\"attributes\":{\"line_alpha\":0.1,\"line_color\":\"red\",\"x\":{\"field\":\"x\"},\"y\":{\"field\":\"y\"}},\"id\":\"28175\",\"type\":\"Line\"},{\"attributes\":{\"data\":{\"x\":[1,11,21,31,41,51,61,71,81,91,101,111,121,131,141,151,161,171,181,191,201,211,221,231,241,251,261,271,281,291,301,311,321,331,341,351,361,371,381,391,401,411,421,431,441,451,461,471,481,491,501,511,521,531,541,551,561,571,581,591,601,611,621,631,641,651,661,671,681,691,701,711,721,731,741,751,761,771,781,791,801,811,821,831,841,851,861,871,881,891,901,911,921,931,941,951,961,971,981,991],\"y\":{\"__ndarray__\":\"078GW43K+z8VNRbEG2neP1U7JzYUXt8/I1Br98Rz1T9g4RHwxiDaP+JA9KHFy84/b142IjdS1T9SE63F2KXKPwYm23G19s8/wN/FDRQQ0D9gNXFXSqbNP2HdEFmUPMM/mo6ysf0Ozz9GxSLRG4nDPzaFde2zzsw/nv/FFSfmxD+iy8RU1iHCP0bcMJLo+78/bse1zoDCxT+5q5IDHLfBPwWfLnzMkc0/agriWOU0wD96j4QH1WbLP+Pht+QJnLw/EJhPX03Mtz9lhKveqpTBP+1E6s3rW74/MjYNZXRbvj/TzaalLYGzP46Sw4eXXb0/TT+BhdfZwD8NAN96pim2P3UFL57V2ro/1DOMoh3HuD+zLxWhZI63P/Ki0bpL/ME/Q3/ZlFtSsz+C1hVZ9OS0P0C38A5Hhrs/Ts/NM5rsvz/S0N6zHAGxP2Zm5P8y1bk/yhz+vkeMtj9yBHaH/iC0P40DNxFoD78/2m5QhJD9tT/z+f+isdC5P7loclJil7E/7cbwEfF7uD+HG/ynknazP5rCwST98LU/tg47P3iNrD9bk3lm3xO1P00IxcElJ7o/0JoPNMstoz8DWYGt9yOwP/YJMq3tJ7I/jv7ENN4dsz+D82JAUWy4P56PXRsklbI/hsO05oqPrz8zlxT/YYCqP/47vQaYoLg/iDlLOXt6rD+ePCDejdeqP5l5VAQT/rM/P1c8r3pVuT9FnFzHJD+1PylT+P5grbU/E7a7Qg2irT8tVJNzeaO8PzpstyPy4Lc/hKDge/0Ytz9nvmI6/2eoP+BiTkDlS68/xVfq5Ip4sz9QOllnS8K0P22eIPamJKk/Dq5JKs2eqT9NsoBIA0O3PyP3USLiqKk/Q5vUQZJEpT/Kj6CPGwuhP8rZYufL47A/bvAIzNlcsz8ZHBIvFAK2P0innf8ClLM/flTWp0t4tT+wEJVnFvGvP1sMjF6EC6U/acntcq+TsD8il0K6D4uwP9hmJFSdebM/I87wsdtXoj+d9iUusXGrPzYYYNLT1LM/ZqHDxlj9tT8eIoGBpNmnP360sdyXbLI/BcjJmtbNqz8=\",\"dtype\":\"float64\",\"order\":\"little\",\"shape\":[100]}},\"selected\":{\"id\":\"28206\"},\"selection_policy\":{\"id\":\"28205\"}},\"id\":\"28190\",\"type\":\"ColumnDataSource\"},{\"attributes\":{\"x\":{\"field\":\"x\"},\"y\":{\"field\":\"y\"}},\"id\":\"28229\",\"type\":\"Line\"},{\"attributes\":{\"source\":{\"id\":\"28190\"}},\"id\":\"28194\",\"type\":\"CDSView\"},{\"attributes\":{},\"id\":\"28187\",\"type\":\"Selection\"},{\"attributes\":{\"source\":{\"id\":\"28228\"}},\"id\":\"28232\",\"type\":\"CDSView\"},{\"attributes\":{},\"id\":\"28186\",\"type\":\"UnionRenderers\"},{\"attributes\":{\"data\":{\"x\":[1,11,21,31,41,51,61,71,81,91,101,111,121,131,141,151,161,171,181,191,201,211,221,231,241,251,261,271,281,291,301,311,321,331,341,351,361,371,381,391,401,411,421,431,441,451,461,471,481,491,501,511,521,531,541,551,561,571,581,591,601,611,621,631,641,651,661,671,681,691,701,711,721,731,741,751,761,771,781,791,801,811,821,831,841,851,861,871,881,891,901,911,921,931,941,951,961,971,981,991],\"y\":{\"__ndarray__\":\"xrkaXqqaA0CirXBpALLxP0z1jOeCLuU/CjIXkykZ5j8OH38Ub2PjPyWyY4gI598/Xief0T2/4D8LL6HeSpDdPx4EMy1qC94/hpmGGpM/3T/twKDWTfPaPy/oXemrh9k/qzzU97k/1T/al/43rCLaP/6ftJ8SUtU/bpf5sKje1D/OU/2r4q/TP6LZoah5EdU/5m1oAZ6b0z+zCWuYA/DXP3reRBQFB9Q/UwmT3Qwn1D9evSWnly7TP+HL+UqwLdE/p9V0HCfw0T873nI1aVzVP2rgHhiPbdA/HQfNG7Ni0j/WiQJN69vRP75rI2TKkc8/AILo0t+xzz8+FY8wOYXOPwLilt++ONE/cH7c/Trk0D/WIjXCCPzSPyuCjXUTqdM/ksgdpDA00D+oMVHnC3bOP6Z8VsAgSMw/fexYiX1ozj+lc0DB5XXMP8svDascDdE/UL/t0Hhv0T8t74YIJ6/QP2MOSCujNNE/taDIgVaDyj8Acf464VDKPxB6iQHzps0/+ASq2iNvyj/S57iMFV3RPxg66Qn6Kcw/jnVuu8CizT+ddPG1IX3MP+CY08b2wMg/QPOLWF0Nyj8bRIb1hDTIPy2532L/0c0/+CX3yBEnyT9Ow1PvycnFP7ZhMbBgmMc/BlKQbtkhyT+yvsoIxnXGPw1LbeaRRMU/Lj/1+jQKyD9bUqPdlXLJP5vKzw2lY8k/5dAGQyI/xj+SbQJKy5zEP8qV6Gpgcsc/D6yFwVW5xz9PW3s7lgvDP2JxV9P7kck/FSmpvgraxz+A1cEcRUHHP0Zz5jztr8k/NW1lElZgxz/qIPtuhvTKPyioS+78B8c/+sPzKSTUxT9HFuT+7ZjEP6VOn3TV8sE/B+3luF5Pwz9K5Wp1Cg3FPzPmE3ryDMY/cvulGrYXxz8zE+SxHnLFPy7NzVJLksc/WzSno08/wz8uXmT/qhfHP2crO/8B4cc/c6SkfhW3wz8Ru37b16rIPwxB70eL8cg/4HJtEYGCwz+qeqmVNcXDP8in/ZmnlcM/UonfzU4pxj/4wku21MrGP0iRiBTjUMQ/dY9CSDtVwz8=\",\"dtype\":\"float64\",\"order\":\"little\",\"shape\":[100]}},\"selected\":{\"id\":\"28187\"},\"selection_policy\":{\"id\":\"28186\"}},\"id\":\"28173\",\"type\":\"ColumnDataSource\"},{\"attributes\":{\"line_color\":\"blue\",\"x\":{\"field\":\"x\"},\"y\":{\"field\":\"y\"}},\"id\":\"28191\",\"type\":\"Line\"},{\"attributes\":{\"line_color\":\"green\",\"x\":{\"field\":\"x\"},\"y\":{\"field\":\"y\"}},\"id\":\"28209\",\"type\":\"Line\"},{\"attributes\":{\"line_alpha\":0.1,\"x\":{\"field\":\"x\"},\"y\":{\"field\":\"y\"}},\"id\":\"28230\",\"type\":\"Line\"},{\"attributes\":{\"line_alpha\":0.1,\"line_color\":\"blue\",\"x\":{\"field\":\"x\"},\"y\":{\"field\":\"y\"}},\"id\":\"28192\",\"type\":\"Line\"},{\"attributes\":{},\"id\":\"28206\",\"type\":\"Selection\"},{\"attributes\":{\"items\":[{\"id\":\"28189\"},{\"id\":\"28207\"},{\"id\":\"28227\"},{\"id\":\"28249\"}]},\"id\":\"28188\",\"type\":\"Legend\"},{\"attributes\":{\"data_source\":{\"id\":\"28190\"},\"glyph\":{\"id\":\"28191\"},\"hover_glyph\":null,\"muted_glyph\":null,\"nonselection_glyph\":{\"id\":\"28192\"},\"view\":{\"id\":\"28194\"}},\"id\":\"28193\",\"type\":\"GlyphRenderer\"},{\"attributes\":{\"line_alpha\":0.1,\"line_color\":\"green\",\"x\":{\"field\":\"x\"},\"y\":{\"field\":\"y\"}},\"id\":\"28210\",\"type\":\"Line\"},{\"attributes\":{\"data\":{\"x\":[1,11,21,31,41,51,61,71,81,91,101,111,121,131,141,151,161,171,181,191,201,211,221,231,241,251,261,271,281,291,301,311,321,331,341,351,361,371,381,391,401,411,421,431,441,451,461,471,481,491,501,511,521,531,541,551,561,571,581,591,601,611,621,631,641,651,661,671,681,691,701,711,721,731,741,751,761,771,781,791,801,811,821,831,841,851,861,871,881,891,901,911,921,931,941,951,961,971,981,991],\"y\":{\"__ndarray__\":\"o6wlEKqaA0BbJ+o4Fx7wP2jt0a6z9OU/4tqsWtw15j8X9mWuiwrkPxZdhYa6P+E/SJOu56N23j+woZh5ZozZP8rTucUagtc/8RfwCG+z1D9SwFd14I/ZP12R5dd4+Nc/27TuKxQA2j9SuKekenrWP7vz7GTMrdU/ujDIHR8t0z+LIvPFkFXUP7dYKNM2R9M/Rux4h+Ia0D+taTpjBITXP2q1dwiLLNA/gIu+5/cGzT/rZkP0ltXQP3ZLUzQXWtA/Gz0Iunm50D8C9A6gBMjNP56LSu96odA/mAmdNFRC0D8yfW5skzXMP8AJGxTyvM4/jcm7OrPVyj/OKcfTcdrOP2YFsdPeZcw/oB0BcX1qzT+wKn4onFzIPygtprGyGco/nrpUMegpyj+oIAeWto3EP9ZGExATRsc/SMccYo/kyz8u7vpi2dDIP5I7FJUn+8Y/OPoMal6/xT8YOqzde6/FP9p5YG0fItA/hwZRfTRixD+GGPxDCQHEPy66yxwEYMo/IBxCjO+ayT9bb095NDnIP7CyBIM6k8Q/FU2wONQTwj+TnMEyMlLJP/thA7CVC8U/8y9+/eGYxD/7BgaOVOzHP5NdAjlG8cI/JMTbrhkuxD+tiygmD+3FP1+RY+KC4cM/WnLyzdOowz+ZcbZHUNLEP6olkmXLcr4/8A3Zj2xGxD+OAFlTiK/DP0pI4UHigsQ/+r3U6ucAxT/KefBW0J/EP+V0vyB4s7w/lhTneIDIvz9v2F9xuRPGP9bwWECU1Lw/F8Hun2TUwT8jOk+Q6/jEPzqXm52Ti7o/Ygk/sTIGxD+A7rJj8TO/P+vQCh1qp8A/0FXojzuJvz98mstNql7APy5iqA/uR8M/XU2/uCI7wz+AvXR1g7vAP7P0sAfwF8A/FhxVVfKtwz88Yv0di/DEP8vo+sKDP8I/ZxY06seDwD9ycKM7muTBP5pmjCWGZ74/pRS9SxY7wT+mvJJxYjDBP8oI1Zxkwbw/yrcTbssrwT8J3C7GTz7APyix5LF8Z7w/0PkJOfYxxT/mrXhYei3AP8KlX+PDe8A/5XZqCWLlvj8=\",\"dtype\":\"float64\",\"order\":\"little\",\"shape\":[100]}},\"selected\":{\"id\":\"28248\"},\"selection_policy\":{\"id\":\"28247\"}},\"id\":\"28228\",\"type\":\"ColumnDataSource\"},{\"attributes\":{\"data_source\":{\"id\":\"28208\"},\"glyph\":{\"id\":\"28209\"},\"hover_glyph\":null,\"muted_glyph\":null,\"nonselection_glyph\":{\"id\":\"28210\"},\"view\":{\"id\":\"28212\"}},\"id\":\"28211\",\"type\":\"GlyphRenderer\"},{\"attributes\":{\"label\":{\"value\":\"BFGS\"},\"renderers\":[{\"id\":\"28176\"}]},\"id\":\"28189\",\"type\":\"LegendItem\"},{\"attributes\":{\"source\":{\"id\":\"28208\"}},\"id\":\"28212\",\"type\":\"CDSView\"},{\"attributes\":{\"data_source\":{\"id\":\"28228\"},\"glyph\":{\"id\":\"28229\"},\"hover_glyph\":null,\"muted_glyph\":null,\"nonselection_glyph\":{\"id\":\"28230\"},\"view\":{\"id\":\"28232\"}},\"id\":\"28231\",\"type\":\"GlyphRenderer\"},{\"attributes\":{\"data\":{\"x\":[1,11,21,31,41,51,61,71,81,91,101,111,121,131,141,151,161,171,181,191,201,211,221,231,241,251,261,271,281,291,301,311,321,331,341,351,361,371,381,391,401,411,421,431,441,451,461,471,481,491,501,511,521,531,541,551,561,571,581,591,601,611,621,631,641,651,661,671,681,691,701,711,721,731,741,751,761,771,781,791,801,811,821,831,841,851,861,871,881,891,901,911,921,931,941,951,961,971,981,991],\"y\":{\"__ndarray__\":\"oTcpS6qaA0Dd57QMsiDxP0CqEJzG2uE/LVPWyAFo5D/WjPT8qtDkP5bpAEh+ouE/duOe+f673T9A2UEJc8PYPxgp9uQqvN4/A/lL05W63T8Q/5jhfyXbP0pjlDfgcdg/Ju88erBO1z+22ivfmh7bPxzvhP5xiNU/WdgYOHv10j8Ti9/Wt4/WP/Y9ow0UotM/g5eVPXz4zj/QcnfMkRzVP16GxPOqcNI/8DLUc1DD0j8zuqSRvBjSP56gvnjoOtA/FtanlnTqzz9DxsFTSIzUP1pRAfO6YtE/UEokC6NgzD/TVk0GBRvPPyJiQ0Qr/Ms/QuOJIlfezD/98o9Hs5XJPz7/grkkINA/yk5ijaQRzD/7bPs0EeXOP79YJO8o89I/ssDDecmi0D+zdXhx6szMP928JWkbfco/2Lo13H/vyj82M0CYpCnIP8Iu2e/bG8w/mkCWGV3vzz82VPH7eDXIP6MNxSfiOtA/Cj3fVAqbyj8XOv865u3GPy598OKbh8w/lo116hAczD9TGeIVMbPKPxCiBjMz5s0/PPdAXlqvyD+PDF51IrvIP0mb9vFJHcQ/oIZYykJcyj81jgshlhDGP1aGWoZnVsY/CoohbVnhyT8FB3WBQ9DGP8E8utNwZMU/b52FRsZwxj+5Bkn0HrrGP2Xpc0QHUMU/LmPB8Ym6wT+C6VitlWPHP9M0rCHHKsg/o0jT//Mfxj8zqxBlnD/FP2As9+KORcY/7g0hus0Pwj+8E9AsIvHEP4EHL8atpsU/2gP1gWKOxD+Hxd2clmvBP/puPcQlZsc/5GYj271pxD/JFRLbYnTGP1L+FFEnzMQ/+KS1xtdZwT/WRUI5P1XFP5WL08HDV8I/7kpWdZWWyT/W+mA6Dz/EP2T74otNA8M/Yg/1MHDqwz+tkvl8WXHGP+7+yD4C2r8/mia/rm1vwT+tZ0nydMe/PzdIYRLi58I/L5t32yWGwz/Crs1HGxjGPyDImY0fM8I/khgGSMvUwz+bN+A9Gi++Pyq4OCmqksE/prg2xP+exj/RaPRrKyjEP76ZiWSoO8E/1puS7SH9wT8=\",\"dtype\":\"float64\",\"order\":\"little\",\"shape\":[100]}},\"selected\":{\"id\":\"28226\"},\"selection_policy\":{\"id\":\"28225\"}},\"id\":\"28208\",\"type\":\"ColumnDataSource\"},{\"attributes\":{\"label\":{\"value\":\"ASD\"},\"renderers\":[{\"id\":\"28193\"}]},\"id\":\"28207\",\"type\":\"LegendItem\"},{\"attributes\":{\"label\":{\"value\":\"Built in\"},\"renderers\":[{\"id\":\"28231\"}]},\"id\":\"28249\",\"type\":\"LegendItem\"},{\"attributes\":{},\"id\":\"28145\",\"type\":\"DataRange1d\"},{\"attributes\":{\"label\":{\"value\":\"SD\"},\"renderers\":[{\"id\":\"28211\"}]},\"id\":\"28227\",\"type\":\"LegendItem\"},{\"attributes\":{\"bottom_units\":\"screen\",\"fill_alpha\":0.5,\"fill_color\":\"lightgrey\",\"left_units\":\"screen\",\"level\":\"overlay\",\"line_alpha\":1.0,\"line_color\":\"black\",\"line_dash\":[4,4],\"line_width\":2,\"right_units\":\"screen\",\"syncable\":false,\"top_units\":\"screen\"},\"id\":\"28165\",\"type\":\"BoxAnnotation\"},{\"attributes\":{},\"id\":\"28143\",\"type\":\"DataRange1d\"},{\"attributes\":{},\"id\":\"28149\",\"type\":\"LinearScale\"},{\"attributes\":{\"axis_label\":\"|Y|\",\"formatter\":{\"id\":\"28183\"},\"major_label_policy\":{\"id\":\"28182\"},\"ticker\":{\"id\":\"28152\"}},\"id\":\"28151\",\"type\":\"LinearAxis\"},{\"attributes\":{},\"id\":\"28179\",\"type\":\"AllLabels\"},{\"attributes\":{},\"id\":\"28147\",\"type\":\"LinearScale\"},{\"attributes\":{\"data_source\":{\"id\":\"28173\"},\"glyph\":{\"id\":\"28174\"},\"hover_glyph\":null,\"muted_glyph\":null,\"nonselection_glyph\":{\"id\":\"28175\"},\"view\":{\"id\":\"28177\"}},\"id\":\"28176\",\"type\":\"GlyphRenderer\"},{\"attributes\":{},\"id\":\"28152\",\"type\":\"BasicTicker\"},{\"attributes\":{\"axis\":{\"id\":\"28151\"},\"ticker\":null},\"id\":\"28154\",\"type\":\"Grid\"},{\"attributes\":{},\"id\":\"28180\",\"type\":\"BasicTickFormatter\"},{\"attributes\":{},\"id\":\"28247\",\"type\":\"UnionRenderers\"},{\"attributes\":{},\"id\":\"28160\",\"type\":\"WheelZoomTool\"},{\"attributes\":{},\"id\":\"28225\",\"type\":\"UnionRenderers\"},{\"attributes\":{\"axis_label\":\"minimum f value\",\"formatter\":{\"id\":\"28180\"},\"major_label_policy\":{\"id\":\"28179\"},\"ticker\":{\"id\":\"28156\"}},\"id\":\"28155\",\"type\":\"LinearAxis\"},{\"attributes\":{\"axis\":{\"id\":\"28155\"},\"dimension\":1,\"ticker\":null},\"id\":\"28158\",\"type\":\"Grid\"},{\"attributes\":{},\"id\":\"28205\",\"type\":\"UnionRenderers\"},{\"attributes\":{},\"id\":\"28248\",\"type\":\"Selection\"},{\"attributes\":{},\"id\":\"28156\",\"type\":\"BasicTicker\"},{\"attributes\":{\"active_multi\":null,\"tools\":[{\"id\":\"28159\"},{\"id\":\"28160\"},{\"id\":\"28161\"},{\"id\":\"28162\"},{\"id\":\"28163\"},{\"id\":\"28164\"}]},\"id\":\"28166\",\"type\":\"Toolbar\"},{\"attributes\":{},\"id\":\"28164\",\"type\":\"HelpTool\"}],\"root_ids\":[\"28140\"]},\"title\":\"Bokeh Application\",\"version\":\"2.3.2\"}};\n  var render_items = [{\"docid\":\"36470d74-d249-4261-8982-3b622e725a61\",\"root_ids\":[\"28140\"],\"roots\":{\"28140\":\"32525657-1ec1-4768-962b-93262fe1288d\"}}];\n  root.Bokeh.embed.embed_items_notebook(docs_json, render_items);\n\n  }\n  if (root.Bokeh !== undefined) {\n    embed_document(root);\n  } else {\n    var attempts = 0;\n    var timer = setInterval(function(root) {\n      if (root.Bokeh !== undefined) {\n        clearInterval(timer);\n        embed_document(root);\n      } else {\n        attempts++;\n        if (attempts > 100) {\n          clearInterval(timer);\n          console.log(\"Bokeh: ERROR: Unable to run BokehJS code because BokehJS library is missing\");\n        }\n      }\n    }, 10, root)\n  }\n})(window);",
      "application/vnd.bokehjs_exec.v0+json": ""
     },
     "metadata": {
      "application/vnd.bokehjs_exec.v0+json": {
       "id": "28140"
      }
     },
     "output_type": "display_data"
    }
   ],
   "source": [
    "def visualise_pos(datas):\n",
    "    p = figure(title = 'minimum f value ', plot_width = 900, x_axis_label = '|Y|', y_axis_label = 'minimum f value')\n",
    "    colors = ['red', 'blue', 'green', 'black', 'orange']\n",
    "    for type, col in zip(datas,colors):\n",
    "        p.line(datas[type].fmin.index, abs(datas[type].fmin), color = col, legend_label = type)\n",
    "    p.legend.location = 'top_right'\n",
    "    show(p)\n",
    "\n",
    "def visualise_time(datas):\n",
    "    p = figure(title = 'avg run time', plot_width = 900, x_axis_label = '|Y|', y_axis_label = 'avg run time(s)')\n",
    "    colors = ['red', 'blue', 'green', 'black', 'orange']\n",
    "    for type, col in zip(datas,colors):\n",
    "        p.line(datas[type].time.index, datas[type].time, color = col, legend_label = type)\n",
    "    p.legend.location = 'top_left'\n",
    "    show(p)\n",
    "\n",
    "visualise_time(avgs)\n",
    "visualise_pos(avgs)\n"
   ]
  },
  {
   "cell_type": "code",
   "execution_count": 91,
   "metadata": {},
   "outputs": [
    {
     "data": {
      "text/html": [
       "\n",
       "\n",
       "\n",
       "\n",
       "\n",
       "\n",
       "  <div class=\"bk-root\" id=\"224fc8e2-9472-47cf-9861-56d6d854391c\" data-root-id=\"17904\"></div>\n"
      ]
     },
     "metadata": {},
     "output_type": "display_data"
    },
    {
     "data": {
      "application/javascript": "(function(root) {\n  function embed_document(root) {\n    \n  var docs_json = {\"7e80d28f-95de-4280-b732-faa279884374\":{\"defs\":[],\"roots\":{\"references\":[{\"attributes\":{\"below\":[{\"id\":\"17915\"}],\"center\":[{\"id\":\"17918\"},{\"id\":\"17922\"},{\"id\":\"17952\"}],\"left\":[{\"id\":\"17919\"}],\"renderers\":[{\"id\":\"17940\"},{\"id\":\"17957\"},{\"id\":\"17975\"},{\"id\":\"17995\"}],\"title\":{\"id\":\"17905\"},\"toolbar\":{\"id\":\"17930\"},\"width\":900,\"x_range\":{\"id\":\"17907\"},\"x_scale\":{\"id\":\"17911\"},\"y_range\":{\"id\":\"17909\"},\"y_scale\":{\"id\":\"17913\"}},\"id\":\"17904\",\"subtype\":\"Figure\",\"type\":\"Plot\"},{\"attributes\":{\"line_alpha\":0.1,\"line_color\":\"red\",\"x\":{\"field\":\"x\"},\"y\":{\"field\":\"y\"}},\"id\":\"17939\",\"type\":\"Line\"},{\"attributes\":{\"x\":{\"field\":\"x\"},\"y\":{\"field\":\"y\"}},\"id\":\"17993\",\"type\":\"Line\"},{\"attributes\":{\"data_source\":{\"id\":\"17992\"},\"glyph\":{\"id\":\"17993\"},\"hover_glyph\":null,\"muted_glyph\":null,\"nonselection_glyph\":{\"id\":\"17994\"},\"view\":{\"id\":\"17996\"}},\"id\":\"17995\",\"type\":\"GlyphRenderer\"},{\"attributes\":{\"label\":{\"value\":\"Built in, restart=10\"},\"renderers\":[{\"id\":\"17995\"}]},\"id\":\"18013\",\"type\":\"LegendItem\"},{\"attributes\":{\"data\":{\"x\":[1,11,21,31,41,51,61,71,81,91,101,111,121,131,141,151,161,171,181,191,201,211,221,231,241,251,261,271,281,291,301,311,321,331,341,351,361,371,381,391,401,411,421,431,441,451,461,471,481,491,501,511,521,531,541,551,561,571,581,591,601,611,621,631,641,651,661,671,681,691,701,711,721,731,741,751,761,771,781,791,801,811,821,831,841,851,861,871,881,891,901,911,921,931,941,951,961,971,981,991],\"y\":{\"__ndarray__\":\"cCIx4ZzHA0Ae/rGUdxX8PwGFJcouRPY/LmlTOth58j8hGCoJborvP8WKxa1mNOw/3UGa1XnY6T8FLMUgCjHoP1uPNxZkOOY/jPNWpr+/5D89dO1wf3jjP3aekMEoQuI/y0T6GDKj4T+VDDUrQSrhP2f/dMWcMeA/oIkZAG583z9niDdz10beP6ti9rEdr9w/K1Bq45+a2z8rFGkP93naP0I3bn0MbNk/HDIFgS6/1z+uCn01aPDWP2k2yMOQN9Y/xRPhyMhg1T8i7xqINzbVPwVQEKZhUdQ/HFf4ODuR0z8hGKyOYXzTPxPvVthyZdM/l0bZgovq0j8tvWBBs1HSP6I/3loWMtI/id4fWdWZ0T+WDhOoKWrRP5XgIxiVo9A/sXkRZUVSzz/2On0GsGnPP2GagaByas8/8S0p6Ga4zj9I1l7PXLrOP6js9n8/+80/cY/XT5p8zj+0ZYkP+mjOP0yyuYt2WM4/6b8DnkNIzj9ZZpXrfaHNP/Haf05Xycw/XQfbHFS5yz96FD/BiqnLP8VvpRDYKMs/ial979gqyz9HsrWZ+yLLPxX2i4Md+Mo/5uf2yhrJyT+znfygOA3KP69uU4MUKco/YDVeqMUhyj8Nv8nd4pXJP8tKjGD68Mg/WuE9cdDVyT+Uu9WyGbzJP2Hx2A6kH8k/x2rBOlbiyD+RzrsTD5XIP4qc4gNaa8g/S/XIK4QbyD/9eN+x08zHP51i1YzNO8c/As+TQ068xj/rrvz67dfGP6wvQnNTrcY/vsF9xHDwxT+AOtxPYjzFP6W5dTFHKMU/VH+kALiaxD+RfpW9EynFP9BtK6cu4sQ/5Nq9uHrfxD9XBpcvJePEP42kAf+OSMU/vzklOUwmxT9D2FaoTm7FP0mA35c0XcU/ytz0MkqhxT/D71KUKgbGPzS24xov7sU/wNKdv20ZxT8Y27+TbbbEP4ewOYNTdcQ/V3m5SGYgxD/aS/qDe/nDP7QxRzZZvsM/WYFqWJWIwz8JA5tf+S/DP6JpIwgMOsM/Zf1Fg2hjwz/mxhFgADnDPwGOTTjpTsM/JSTcnJavwz8=\",\"dtype\":\"float64\",\"order\":\"little\",\"shape\":[100]}},\"selected\":{\"id\":\"17990\"},\"selection_policy\":{\"id\":\"17989\"}},\"id\":\"17972\",\"type\":\"ColumnDataSource\"},{\"attributes\":{\"label\":{\"value\":\"Built in\"},\"renderers\":[{\"id\":\"17957\"}]},\"id\":\"17971\",\"type\":\"LegendItem\"},{\"attributes\":{\"bottom_units\":\"screen\",\"fill_alpha\":0.5,\"fill_color\":\"lightgrey\",\"left_units\":\"screen\",\"level\":\"overlay\",\"line_alpha\":1.0,\"line_color\":\"black\",\"line_dash\":[4,4],\"line_width\":2,\"right_units\":\"screen\",\"syncable\":false,\"top_units\":\"screen\"},\"id\":\"17929\",\"type\":\"BoxAnnotation\"},{\"attributes\":{},\"id\":\"17943\",\"type\":\"AllLabels\"},{\"attributes\":{},\"id\":\"18011\",\"type\":\"UnionRenderers\"},{\"attributes\":{\"text\":\"exponential moving average of average minimum f value\"},\"id\":\"17905\",\"type\":\"Title\"},{\"attributes\":{},\"id\":\"17950\",\"type\":\"UnionRenderers\"},{\"attributes\":{\"ticker\":null},\"id\":\"17944\",\"type\":\"LogTickFormatter\"},{\"attributes\":{},\"id\":\"17989\",\"type\":\"UnionRenderers\"},{\"attributes\":{\"data_source\":{\"id\":\"17937\"},\"glyph\":{\"id\":\"17938\"},\"hover_glyph\":null,\"muted_glyph\":null,\"nonselection_glyph\":{\"id\":\"17939\"},\"view\":{\"id\":\"17941\"}},\"id\":\"17940\",\"type\":\"GlyphRenderer\"},{\"attributes\":{},\"id\":\"18012\",\"type\":\"Selection\"},{\"attributes\":{},\"id\":\"17951\",\"type\":\"Selection\"},{\"attributes\":{},\"id\":\"17969\",\"type\":\"UnionRenderers\"},{\"attributes\":{},\"id\":\"17916\",\"type\":\"BasicTicker\"},{\"attributes\":{},\"id\":\"17911\",\"type\":\"LinearScale\"},{\"attributes\":{},\"id\":\"17990\",\"type\":\"Selection\"},{\"attributes\":{},\"id\":\"17907\",\"type\":\"DataRange1d\"},{\"attributes\":{},\"id\":\"17970\",\"type\":\"Selection\"},{\"attributes\":{},\"id\":\"17909\",\"type\":\"DataRange1d\"},{\"attributes\":{},\"id\":\"17923\",\"type\":\"PanTool\"},{\"attributes\":{},\"id\":\"17946\",\"type\":\"AllLabels\"},{\"attributes\":{},\"id\":\"17913\",\"type\":\"LogScale\"},{\"attributes\":{\"label\":{\"value\":\"BFGS\"},\"renderers\":[{\"id\":\"17940\"}]},\"id\":\"17953\",\"type\":\"LegendItem\"},{\"attributes\":{\"source\":{\"id\":\"17992\"}},\"id\":\"17996\",\"type\":\"CDSView\"},{\"attributes\":{\"active_multi\":null,\"tools\":[{\"id\":\"17923\"},{\"id\":\"17924\"},{\"id\":\"17925\"},{\"id\":\"17926\"},{\"id\":\"17927\"},{\"id\":\"17928\"}]},\"id\":\"17930\",\"type\":\"Toolbar\"},{\"attributes\":{\"axis_label\":\"size of |Y|\",\"formatter\":{\"id\":\"17947\"},\"major_label_policy\":{\"id\":\"17946\"},\"ticker\":{\"id\":\"17916\"}},\"id\":\"17915\",\"type\":\"LinearAxis\"},{\"attributes\":{},\"id\":\"17947\",\"type\":\"BasicTickFormatter\"},{\"attributes\":{\"line_alpha\":0.1,\"line_color\":\"green\",\"x\":{\"field\":\"x\"},\"y\":{\"field\":\"y\"}},\"id\":\"17974\",\"type\":\"Line\"},{\"attributes\":{\"source\":{\"id\":\"17937\"}},\"id\":\"17941\",\"type\":\"CDSView\"},{\"attributes\":{\"axis\":{\"id\":\"17915\"},\"ticker\":null},\"id\":\"17918\",\"type\":\"Grid\"},{\"attributes\":{\"source\":{\"id\":\"17954\"}},\"id\":\"17958\",\"type\":\"CDSView\"},{\"attributes\":{},\"id\":\"17927\",\"type\":\"ResetTool\"},{\"attributes\":{\"items\":[{\"id\":\"17953\"},{\"id\":\"17971\"},{\"id\":\"17991\"},{\"id\":\"18013\"}]},\"id\":\"17952\",\"type\":\"Legend\"},{\"attributes\":{\"axis_label\":\"ema\",\"formatter\":{\"id\":\"17944\"},\"major_label_policy\":{\"id\":\"17943\"},\"ticker\":{\"id\":\"17920\"}},\"id\":\"17919\",\"type\":\"LogAxis\"},{\"attributes\":{\"line_color\":\"blue\",\"x\":{\"field\":\"x\"},\"y\":{\"field\":\"y\"}},\"id\":\"17955\",\"type\":\"Line\"},{\"attributes\":{\"data\":{\"x\":[1,11,21,31,41,51,61,71,81,91,101,111,121,131,141,151,161,171,181,191,201,211,221,231,241,251,261,271,281,291,301,311,321,331,341,351,361,371,381,391,401,411,421,431,441,451,461,471,481,491,501,511,521,531,541,551,561,571,581,591,601,611,621,631,641,651,661,671,681,691,701,711,721,731,741,751,761,771,781,791,801,811,821,831,841,851,861,871,881,891,901,911,921,931,941,951,961,971,981,991],\"y\":{\"__ndarray__\":\"4wbm7ZzHA0AsdyTQE5j6PxJCdcKxVPU/0xSFjW5W8T/f+vaWq8ntP6Pd5bb7Jeo/ufqgcxbn5z+LWwsp1fzlPx3+znw0g+Q/eKSXkTc34z/Lwb87bunhPzmSd0BVA+E/t3cYopeB4D+LHw66XNrfP6UGMoVPj94/ZT2A4gGU3T+u0mPQExPcP+PpkvK589o/MfpiwILp2T81eSeiEwXZPwA0+7G19dc/o/8l41Tv1j+/neSyfs3VPxdK9GG3XdU/SrImrsTh1D9y/WOA9tbUP/9Jq2uyONQ/8hn8xCWe0z8oJ2lHKq7TP7XB3lk3TdM/uNdC40Ip0z9cC41YQ7HSP2carKyS/tE/JjlvCrTd0T8rThoH+3vRP90iwjOmYdE/UBvUvXBt0T+sX0nCuiHRP/KZVQUQ/tA/BU4zG7eA0D99SjAcQ6bQP5v7C6RPHtA/QerQEmQU0D8NAHSqJRLPP92lDpqil84/1ik24Y5Lzj8DREwqpR7OP/Ka+Wvjgc0/TqRUIed5zD/VEDsNnvzLP03Fojq3pcs/iPAmb9h0yz+Jny1jNKPLPyflfp7gI8w/8WMNhoiWyz+kPkrye5TLPxnNfEV5bMs/xHTGGlf6yj8kl7mCiUzKP3HIgXNv7Mk/qZPJMdVAyj9LKFvGH2fKP57iSMp5N8o/c2qdHBspyj+do/+QwG7JP/EwQSpHw8g/Ffx34tOPyD+/AjogdqzIP48Owclpr8g/vTblaz/kxz9Cya0YaMbHPxA3if1v6sc/Aax6ZKNEyD/kJpT485/HPwlRFhWkTMc/LIW4sY9zxz/cDHsUDcnGPwmzDJcj1sY/k2ODlMZ5xj/Mk6JCX23GP7RDfWoZUcY/u5UJNZqxxT+pQgi+SBHGP/Nwi/BS08U/y7dsaY8Mxj+YVi9XqSTGP/aCRx3mscY/rkNv1BEbxj9xxO74kcbFP5Ik63oz7cU/yptBJtYKxj+LQNrUJxHGP8zNSp8ynsU/XBrRXXG3xD8e8th0idHEP+R+svQjEMU/VUUXjhwkxT8sZqeduunEPxjM/rrYYsQ/AJds9R19xD8=\",\"dtype\":\"float64\",\"order\":\"little\",\"shape\":[100]}},\"selected\":{\"id\":\"17951\"},\"selection_policy\":{\"id\":\"17950\"}},\"id\":\"17937\",\"type\":\"ColumnDataSource\"},{\"attributes\":{\"axis\":{\"id\":\"17919\"},\"dimension\":1,\"ticker\":null},\"id\":\"17922\",\"type\":\"Grid\"},{\"attributes\":{\"line_color\":\"green\",\"x\":{\"field\":\"x\"},\"y\":{\"field\":\"y\"}},\"id\":\"17973\",\"type\":\"Line\"},{\"attributes\":{\"data_source\":{\"id\":\"17954\"},\"glyph\":{\"id\":\"17955\"},\"hover_glyph\":null,\"muted_glyph\":null,\"nonselection_glyph\":{\"id\":\"17956\"},\"view\":{\"id\":\"17958\"}},\"id\":\"17957\",\"type\":\"GlyphRenderer\"},{\"attributes\":{\"label\":{\"value\":\"Built in, restart=5\"},\"renderers\":[{\"id\":\"17975\"}]},\"id\":\"17991\",\"type\":\"LegendItem\"},{\"attributes\":{\"num_minor_ticks\":10},\"id\":\"17920\",\"type\":\"LogTicker\"},{\"attributes\":{\"line_alpha\":0.1,\"line_color\":\"blue\",\"x\":{\"field\":\"x\"},\"y\":{\"field\":\"y\"}},\"id\":\"17956\",\"type\":\"Line\"},{\"attributes\":{},\"id\":\"17928\",\"type\":\"HelpTool\"},{\"attributes\":{\"source\":{\"id\":\"17972\"}},\"id\":\"17976\",\"type\":\"CDSView\"},{\"attributes\":{\"data\":{\"x\":[1,11,21,31,41,51,61,71,81,91,101,111,121,131,141,151,161,171,181,191,201,211,221,231,241,251,261,271,281,291,301,311,321,331,341,351,361,371,381,391,401,411,421,431,441,451,461,471,481,491,501,511,521,531,541,551,561,571,581,591,601,611,621,631,641,651,661,671,681,691,701,711,721,731,741,751,761,771,781,791,801,811,821,831,841,851,861,871,881,891,901,911,921,931,941,951,961,971,981,991],\"y\":{\"__ndarray__\":\"1kc3zxAnA0CVCeWVnun6P7DWm60oCvU/pWKziGtV8T9xGq8hwXXtP377TYPLLeo/+4cm8L7Q5z+62zT1NxbmP+DKRg9dIeQ/EA3dtrN94j8of0KVqQ3hP8IAvun/BOA/M8Woc2mQ3j9v9hV5firdP48ZhW6DINw/FXY7SKTJ2z+QJUxxVZ3ZP+klEZhgQtk/4vZpfryN2D9sdP3IQ2rXP6RMMu/bn9Y/laikFW5N1T/Dgq+9GHjUP/jAQ+J4s9M/m+5rlGML0z+7JvH2lyfSP/A3j42vvtE/jZghCBtk0T+kZ9RT3AbRPx0NEF4cGtE/xXm+nGp10D/gsThqZpPPP7FAdSCMYM4/Lg9jo3ehzD9jO+/wq2LMP2i17P1Tyco/6sMvisIYyj/qD31QF+DKP2TMdTf8Yso/o0IHGZEMyj+qUkl2gNPJP0DbnYSg48k/C+2y81Fpyj8CyiNTR7bKPz4iOlCgKco/1R1Bj2h2yj+KEXLxuLrJP0e2XWTrfsg/F4iS6Qirxz9qbMMHd2LHP/AyTcAJNsc//u74Be/Yxj/gXFPA1XHGP6Fn39bmgsY/7zRMO/8cxT80Y/gweSjGP4VB+VY0/cU/yztweodFxT8qGnvZqqLFP7745OtW1MQ/D0TRi3DwxT8EkJ6YNLXFPx+KhPfQW8U/eT0dyVA5xT+k8rdLc2rFP2zCHzBN18U/JCI6m8+txT9AXj240jrFP34RqeZ95cQ/WwtcEs7iwz81f6HngYHDP/R5rMSATMM/hfr9F8TKwj+sTzFkn5zCP+HBzKckBcM/qwbPpqYKwj8JBmd7UIvCP9BKzm8IPcI/KLQFLLn2wT8Z4wkzfAbCP+nX2c2zGsI/obrK6/TzwT8ns/OXiivCP5Ib8vSoj8E/c2WXcW4/wj9wNdGKxCrCP9ve2DAXxMI/orWf5CAiwj+2jdnOMmrBP0J9u9z/d8E/OlyyQTr+wD/QCN9KQiDBP8/bf0Q7x8A/kv2Nli+vwD/nF1LECUHAP3vHqlTiEcA/e3XtHh6Lvz+clzj/X5i9P4Nwjtyy+b4/oJGmAcrlvz8=\",\"dtype\":\"float64\",\"order\":\"little\",\"shape\":[100]}},\"selected\":{\"id\":\"17970\"},\"selection_policy\":{\"id\":\"17969\"}},\"id\":\"17954\",\"type\":\"ColumnDataSource\"},{\"attributes\":{\"data_source\":{\"id\":\"17972\"},\"glyph\":{\"id\":\"17973\"},\"hover_glyph\":null,\"muted_glyph\":null,\"nonselection_glyph\":{\"id\":\"17974\"},\"view\":{\"id\":\"17976\"}},\"id\":\"17975\",\"type\":\"GlyphRenderer\"},{\"attributes\":{},\"id\":\"17926\",\"type\":\"SaveTool\"},{\"attributes\":{\"line_alpha\":0.1,\"x\":{\"field\":\"x\"},\"y\":{\"field\":\"y\"}},\"id\":\"17994\",\"type\":\"Line\"},{\"attributes\":{\"line_color\":\"red\",\"x\":{\"field\":\"x\"},\"y\":{\"field\":\"y\"}},\"id\":\"17938\",\"type\":\"Line\"},{\"attributes\":{\"data\":{\"x\":[1,11,21,31,41,51,61,71,81,91,101,111,121,131,141,151,161,171,181,191,201,211,221,231,241,251,261,271,281,291,301,311,321,331,341,351,361,371,381,391,401,411,421,431,441,451,461,471,481,491,501,511,521,531,541,551,561,571,581,591,601,611,621,631,641,651,661,671,681,691,701,711,721,731,741,751,761,771,781,791,801,811,821,831,841,851,861,871,881,891,901,911,921,931,941,951,961,971,981,991],\"y\":{\"__ndarray__\":\"Rk8v4ZzHA0B5ZLCUdxX8P66PpeIuRPY/tiuwZNh58j9PFaf08Z7vP/cQ4VK7LOw/xdMdDtTi6T8Cvw3QJDnoP13TJQl7VeY/O/VUXw7X5D9Iz6bniJ3jP1CwXFMqaeI/DN9iQKrn4T/GKL04WWLhP+pnHBlCqeA/qGwQkMcg4D/EYk7HkOneP738oTcwft0/TrNybfUp3D/gfjNs09PaPx9wWjSr0tk//bXaGcjG2D9pG7LWhKTXP/eJumvx0dY/6BnjlFsb1j+N5AficyHVP9v3NDOmhNQ/N7hk9Ib70z8MASSXgdDTPzswyFx+q9M/3rcBMHmF0z+Twmz2IDvTP7UipiaE9NI/8q/w6fln0j/PsfPUm1vSP6iQbVqewNE/VAoWgBf60D8jYXzMI83QP6w8TUuUz9A/3qJxpIBN0D/ChLSEEw/QP76fz1NDHM8/JhNxRR/Azz+bhaAah4bPP2G1SLNoRs8/aKSS9WD1zj8i1tqXtSTOP3nNVNfnX80/GarRNxeYzD/Up4/vZrTLPwWweKcwUcs/2UXo4f/Qyj9/B96IqMDKPzmGsuzwvco/dNSDUtnUyT+A9ZqTAhfKP6/5XVJYD8o/DF/KKWYDyj+L780eLM3JPyrb5KwRYsk/NKrc7wvwyT8yH+n3liPKP+nEsmWF2Mk/IqE1xY4HyT8ZpYT+NubIPyjjmMC8+Mg/8oPD+ijOyD/Kf4aXi5PIP7Rl810UI8g/nkgAU2vyxz/Gufuk10XIP2MRYDhIrcc/i4i+q6Zxxz/Balfj+SPHPzdY72Cb58Y/Mhl4XzpIxj/CSa0RnafGP3bBd47PocY/G5mKu5TYxj/KNhkkbuPGP9GcfVnoBMc/xKw3/yXQxj9b1hZu0MLGP9q6dEXTsMY/avGbmisOxz9A0xg23SnHP+Qbopf/d8c/lgb19XKbxj+OGRj48CPGP57oKNO1zcU/iTTrdFlDxT/sZ8pgdA3FP/8QaZgTfMQ/EfKHmbAmxD/6d/EcLLHDPw92EiVlcMM/uRNLNp1iwz8+dcbOfYrDP30FDweQosM/4DdhMnT2wz8=\",\"dtype\":\"float64\",\"order\":\"little\",\"shape\":[100]}},\"selected\":{\"id\":\"18012\"},\"selection_policy\":{\"id\":\"18011\"}},\"id\":\"17992\",\"type\":\"ColumnDataSource\"},{\"attributes\":{},\"id\":\"17924\",\"type\":\"WheelZoomTool\"},{\"attributes\":{\"overlay\":{\"id\":\"17929\"}},\"id\":\"17925\",\"type\":\"BoxZoomTool\"}],\"root_ids\":[\"17904\"]},\"title\":\"Bokeh Application\",\"version\":\"2.3.2\"}};\n  var render_items = [{\"docid\":\"7e80d28f-95de-4280-b732-faa279884374\",\"root_ids\":[\"17904\"],\"roots\":{\"17904\":\"224fc8e2-9472-47cf-9861-56d6d854391c\"}}];\n  root.Bokeh.embed.embed_items_notebook(docs_json, render_items);\n\n  }\n  if (root.Bokeh !== undefined) {\n    embed_document(root);\n  } else {\n    var attempts = 0;\n    var timer = setInterval(function(root) {\n      if (root.Bokeh !== undefined) {\n        clearInterval(timer);\n        embed_document(root);\n      } else {\n        attempts++;\n        if (attempts > 100) {\n          clearInterval(timer);\n          console.log(\"Bokeh: ERROR: Unable to run BokehJS code because BokehJS library is missing\");\n        }\n      }\n    }, 10, root)\n  }\n})(window);",
      "application/vnd.bokehjs_exec.v0+json": ""
     },
     "metadata": {
      "application/vnd.bokehjs_exec.v0+json": {
       "id": "17904"
      }
     },
     "output_type": "display_data"
    }
   ],
   "source": [
    "def visualise_ema():\n",
    "    p = figure(title = f'exponential moving average of average minimum f value', plot_width = 900, x_axis_label = 'size of |Y|', y_axis_label = 'ema', y_axis_type = 'log')\n",
    "    for type, col in zip(emas.columns, ['red', 'blue', 'green', 'black']):\n",
    "        p.line(emas[type].index, abs(emas[type]), color = col, legend_label = type)\n",
    "    show(p)\n",
    "visualise_ema()"
   ]
  },
  {
   "cell_type": "code",
   "execution_count": 60,
   "metadata": {},
   "outputs": [
    {
     "data": {
      "text/html": [
       "\n",
       "\n",
       "\n",
       "\n",
       "\n",
       "\n",
       "  <div class=\"bk-root\" id=\"07e4c126-4a13-4487-9d5f-359753157b54\" data-root-id=\"18316\"></div>\n"
      ]
     },
     "metadata": {},
     "output_type": "display_data"
    },
    {
     "data": {
      "application/javascript": "(function(root) {\n  function embed_document(root) {\n    \n  var docs_json = {\"a86a5bf7-046d-4124-b310-097219a7776d\":{\"defs\":[],\"roots\":{\"references\":[{\"attributes\":{\"below\":[{\"id\":\"18327\"}],\"center\":[{\"id\":\"18330\"},{\"id\":\"18334\"}],\"left\":[{\"id\":\"18331\"}],\"renderers\":[{\"id\":\"18352\"}],\"title\":{\"id\":\"18317\"},\"toolbar\":{\"id\":\"18342\"},\"width\":900,\"x_range\":{\"id\":\"18319\"},\"x_scale\":{\"id\":\"18323\"},\"y_range\":{\"id\":\"18321\"},\"y_scale\":{\"id\":\"18325\"}},\"id\":\"18316\",\"subtype\":\"Figure\",\"type\":\"Plot\"},{\"attributes\":{},\"id\":\"18924\",\"type\":\"BasicTickFormatter\"},{\"attributes\":{},\"id\":\"18923\",\"type\":\"AllLabels\"},{\"attributes\":{},\"id\":\"18926\",\"type\":\"AllLabels\"},{\"attributes\":{\"line_color\":\"#1f77b4\",\"x\":{\"field\":\"x\"},\"y\":{\"field\":\"y\"}},\"id\":\"18350\",\"type\":\"Line\"},{\"attributes\":{},\"id\":\"18340\",\"type\":\"HelpTool\"},{\"attributes\":{\"axis\":{\"id\":\"18331\"},\"dimension\":1,\"ticker\":null},\"id\":\"18334\",\"type\":\"Grid\"},{\"attributes\":{\"data\":{\"x\":[1,11,21,31,41,51,61,71,81,91,101,111,121,131,141,151,161,171,181,191,201,211,221,231,241,251,261,271,281,291,301,311,321,331,341,351,361,371,381,391,401,411,421,431,441,451,461,471,481,491,501,511,521,531,541,551,561,571,581,591,601,611,621,631,641,651,661,671,681,691,701,711,721,731,741,751,761,771,781,791,801,811,821,831,841,851,861,871,881,891,901,911,921,931,941,951,961,971,981,991],\"y\":{\"__ndarray__\":\"KfeBlpnKCEDgIperIqoRQOBhg5vkZhdAeVDRmNpyDkClsezW6zERQDRFIfdJQhBATNhIYSoeB0ADbumXYrsSQNxctgLf/g5AOPT7APmFDECtv37pAjANQExGF8XtYBBADBfUfnH6F0CdBAtZJHwRQNG+oghZYg5AY3wYlQK2CEDV34LuhHsaQMzIanciTxRAARtq9qiDEkCTPy0Lz5sTQC/1eoYZOQ9AACt+jxjqF0BOc0xeNkENQCRxRg0K2hJAE7iWmEVQG0DOQ8GbSdgNQGQphCb4XhRAYgMAu65TFUCKRB5jAjoSQCUFkCqquRFA6bY6bl7rB0CLrtdQ3kE0QKutzBvHqxRAIQNEcxrVIUAeIU96al8RQMV28+btwBlAspT5upX4HkCdfBDtroYLQJEyq2kM3xVAQQfejbN1G0DpNaLqsYYRQJ/e4rGXyxhAxGatr9i4GEDqukS6VR0TQEcD0JlN8yBAu6rel+hWEEAYIBHHgV8lQJzU9nJfDxRAc6a76pdGFkAeeZzdSxsSQEpRdlEMdBVAlSxZmcfINUDsl8qDDiYUQGaOZik9FRRA3PIH3t92F0B5CXrLppwiQDDsOzRYSQtAmZX5YbIvI0CFSLoFytgZQBcaPOYe1A1AE95gODoIHUBDukhuRDYzQPQ8+CAg4gdAx4RMAisaMkCSkwcNYHQhQFiRowXBNzNAUv5jQr3qEkB69UJsD/MWQIzDsB15qSJA27BNKWDOK0ACvCB0/osdQLVDaNPxGxVArPYHdif3EkBh40amkokhQL/iMwlsQhZAX3FrSB9hEkDfHZ556bUSQMqIdCyglSdAtz6c+xQfF0AVsjUkZv81QGSX3Xd1cxxAObe0TWubFEA5LxCNQ2M6QA0UdJFEigpA4ELehcKTO0DmPR3I1VYZQD3gmCUZRAhATrTNtBl0GUBYKZudof0RQIKmZF3fviJAHMcaGHnTCECK722Z2vIcQEtJkpiyvC9A2Fpyo/ugKUAjQ7XevtYkQHSNYW86WRtAOcfTO/eEEEBwFVBogo4nQJionRUPdRFAS7cxoHwSFUA=\",\"dtype\":\"float64\",\"order\":\"little\",\"shape\":[100]}},\"selected\":{\"id\":\"18929\"},\"selection_policy\":{\"id\":\"18928\"}},\"id\":\"18349\",\"type\":\"ColumnDataSource\"},{\"attributes\":{\"text\":\"ratio of BFGS:Built in\"},\"id\":\"18317\",\"type\":\"Title\"},{\"attributes\":{},\"id\":\"18339\",\"type\":\"ResetTool\"},{\"attributes\":{},\"id\":\"18319\",\"type\":\"DataRange1d\"},{\"attributes\":{},\"id\":\"18321\",\"type\":\"DataRange1d\"},{\"attributes\":{\"active_multi\":null,\"tools\":[{\"id\":\"18335\"},{\"id\":\"18336\"},{\"id\":\"18337\"},{\"id\":\"18338\"},{\"id\":\"18339\"},{\"id\":\"18340\"}]},\"id\":\"18342\",\"type\":\"Toolbar\"},{\"attributes\":{\"line_alpha\":0.1,\"line_color\":\"#1f77b4\",\"x\":{\"field\":\"x\"},\"y\":{\"field\":\"y\"}},\"id\":\"18351\",\"type\":\"Line\"},{\"attributes\":{\"overlay\":{\"id\":\"18341\"}},\"id\":\"18337\",\"type\":\"BoxZoomTool\"},{\"attributes\":{},\"id\":\"18323\",\"type\":\"LinearScale\"},{\"attributes\":{\"axis_label\":\"size of |Y|\",\"formatter\":{\"id\":\"18921\"},\"major_label_policy\":{\"id\":\"18923\"},\"ticker\":{\"id\":\"18328\"}},\"id\":\"18327\",\"type\":\"LinearAxis\"},{\"attributes\":{\"bottom_units\":\"screen\",\"fill_alpha\":0.5,\"fill_color\":\"lightgrey\",\"left_units\":\"screen\",\"level\":\"overlay\",\"line_alpha\":1.0,\"line_color\":\"black\",\"line_dash\":[4,4],\"line_width\":2,\"right_units\":\"screen\",\"syncable\":false,\"top_units\":\"screen\"},\"id\":\"18341\",\"type\":\"BoxAnnotation\"},{\"attributes\":{},\"id\":\"18325\",\"type\":\"LinearScale\"},{\"attributes\":{},\"id\":\"18328\",\"type\":\"BasicTicker\"},{\"attributes\":{\"axis\":{\"id\":\"18327\"},\"ticker\":null},\"id\":\"18330\",\"type\":\"Grid\"},{\"attributes\":{},\"id\":\"18338\",\"type\":\"SaveTool\"},{\"attributes\":{\"axis_label\":\"ratio\",\"formatter\":{\"id\":\"18924\"},\"major_label_policy\":{\"id\":\"18926\"},\"ticker\":{\"id\":\"18332\"}},\"id\":\"18331\",\"type\":\"LinearAxis\"},{\"attributes\":{},\"id\":\"18332\",\"type\":\"BasicTicker\"},{\"attributes\":{},\"id\":\"18928\",\"type\":\"UnionRenderers\"},{\"attributes\":{},\"id\":\"18335\",\"type\":\"PanTool\"},{\"attributes\":{},\"id\":\"18929\",\"type\":\"Selection\"},{\"attributes\":{},\"id\":\"18336\",\"type\":\"WheelZoomTool\"},{\"attributes\":{\"source\":{\"id\":\"18349\"}},\"id\":\"18353\",\"type\":\"CDSView\"},{\"attributes\":{},\"id\":\"18921\",\"type\":\"BasicTickFormatter\"},{\"attributes\":{\"data_source\":{\"id\":\"18349\"},\"glyph\":{\"id\":\"18350\"},\"hover_glyph\":null,\"muted_glyph\":null,\"nonselection_glyph\":{\"id\":\"18351\"},\"view\":{\"id\":\"18353\"}},\"id\":\"18352\",\"type\":\"GlyphRenderer\"}],\"root_ids\":[\"18316\"]},\"title\":\"Bokeh Application\",\"version\":\"2.3.2\"}};\n  var render_items = [{\"docid\":\"a86a5bf7-046d-4124-b310-097219a7776d\",\"root_ids\":[\"18316\"],\"roots\":{\"18316\":\"07e4c126-4a13-4487-9d5f-359753157b54\"}}];\n  root.Bokeh.embed.embed_items_notebook(docs_json, render_items);\n\n  }\n  if (root.Bokeh !== undefined) {\n    embed_document(root);\n  } else {\n    var attempts = 0;\n    var timer = setInterval(function(root) {\n      if (root.Bokeh !== undefined) {\n        clearInterval(timer);\n        embed_document(root);\n      } else {\n        attempts++;\n        if (attempts > 100) {\n          clearInterval(timer);\n          console.log(\"Bokeh: ERROR: Unable to run BokehJS code because BokehJS library is missing\");\n        }\n      }\n    }, 10, root)\n  }\n})(window);",
      "application/vnd.bokehjs_exec.v0+json": ""
     },
     "metadata": {
      "application/vnd.bokehjs_exec.v0+json": {
       "id": "18316"
      }
     },
     "output_type": "display_data"
    }
   ],
   "source": [
    "def visualise_ratio():\n",
    "    p = figure(title = f'ratio of BFGS:Built in', plot_width = 900, x_axis_label = 'size of |Y|', y_axis_label = 'ratio')\n",
    "    p.line(ratio_greater.time.index, ratio_greater.time)\n",
    "    show(p)\n",
    "visualise_ratio()"
   ]
  },
  {
   "cell_type": "code",
   "execution_count": 15,
   "metadata": {},
   "outputs": [
    {
     "data": {
      "text/html": [
       "\n",
       "\n",
       "\n",
       "\n",
       "\n",
       "\n",
       "  <div class=\"bk-root\" id=\"1af5692b-d809-414d-b7d7-f8cf115a8de2\" data-root-id=\"2443\"></div>\n"
      ]
     },
     "metadata": {},
     "output_type": "display_data"
    },
    {
     "data": {
      "application/javascript": "(function(root) {\n  function embed_document(root) {\n    \n  var docs_json = {\"0ed531d2-c77e-4cf4-923c-f5c262da2ce8\":{\"defs\":[],\"roots\":{\"references\":[{\"attributes\":{\"below\":[{\"id\":\"2454\"}],\"center\":[{\"id\":\"2457\"},{\"id\":\"2461\"},{\"id\":\"2491\"}],\"left\":[{\"id\":\"2458\"}],\"renderers\":[{\"id\":\"2479\"},{\"id\":\"2496\"},{\"id\":\"2514\"},{\"id\":\"2534\"}],\"title\":{\"id\":\"2444\"},\"toolbar\":{\"id\":\"2469\"},\"width\":900,\"x_range\":{\"id\":\"2446\"},\"x_scale\":{\"id\":\"2450\"},\"y_range\":{\"id\":\"2448\"},\"y_scale\":{\"id\":\"2452\"}},\"id\":\"2443\",\"subtype\":\"Figure\",\"type\":\"Plot\"},{\"attributes\":{\"line_alpha\":0.1,\"line_color\":\"green\",\"x\":{\"field\":\"x\"},\"y\":{\"field\":\"y\"}},\"id\":\"2513\",\"type\":\"Line\"},{\"attributes\":{},\"id\":\"2450\",\"type\":\"LinearScale\"},{\"attributes\":{},\"id\":\"2452\",\"type\":\"LinearScale\"},{\"attributes\":{\"line_color\":\"blue\",\"x\":{\"field\":\"x\"},\"y\":{\"field\":\"y\"}},\"id\":\"2494\",\"type\":\"Line\"},{\"attributes\":{\"x\":{\"field\":\"x\"},\"y\":{\"field\":\"y\"}},\"id\":\"2532\",\"type\":\"Line\"},{\"attributes\":{\"label\":{\"value\":\"3\"},\"renderers\":[{\"id\":\"2514\"}]},\"id\":\"2530\",\"type\":\"LegendItem\"},{\"attributes\":{\"data\":{\"x\":[1,11,21,31,41,51,61,71,81,91,101,111,121,131,141,151,161,171,181,191],\"y\":{\"__ndarray__\":\"IXfo4RKnBcC2TnbBz/HvvyNAfmQTg+u/oKqIMXW75r9icdUQlNblvzYGPT0X7uG/nk7Ka5ko4b98IMw908jiv9KCwK2Ojt6/WGW5Rmhs4L9+O43G5Xvcv6K8aADfudy/M0l9nVnr3r/qGmVTcMXWv2tFyAySGdi/uxSAxqT42b8TEV1rzvrXv7WYWUXHpNW/X+mi+34e179IcMm2uTfYvw==\",\"dtype\":\"float64\",\"order\":\"little\",\"shape\":[20]}},\"selected\":{\"id\":\"2509\"},\"selection_policy\":{\"id\":\"2508\"}},\"id\":\"2493\",\"type\":\"ColumnDataSource\"},{\"attributes\":{},\"id\":\"2448\",\"type\":\"DataRange1d\"},{\"attributes\":{\"data_source\":{\"id\":\"2493\"},\"glyph\":{\"id\":\"2494\"},\"hover_glyph\":null,\"muted_glyph\":null,\"nonselection_glyph\":{\"id\":\"2495\"},\"view\":{\"id\":\"2497\"}},\"id\":\"2496\",\"type\":\"GlyphRenderer\"},{\"attributes\":{},\"id\":\"2509\",\"type\":\"Selection\"},{\"attributes\":{},\"id\":\"2482\",\"type\":\"AllLabels\"},{\"attributes\":{},\"id\":\"2550\",\"type\":\"UnionRenderers\"},{\"attributes\":{},\"id\":\"2483\",\"type\":\"BasicTickFormatter\"},{\"attributes\":{\"source\":{\"id\":\"2493\"}},\"id\":\"2497\",\"type\":\"CDSView\"},{\"attributes\":{},\"id\":\"2528\",\"type\":\"UnionRenderers\"},{\"attributes\":{},\"id\":\"2551\",\"type\":\"Selection\"},{\"attributes\":{},\"id\":\"2455\",\"type\":\"BasicTicker\"},{\"attributes\":{\"line_alpha\":0.1,\"line_color\":\"blue\",\"x\":{\"field\":\"x\"},\"y\":{\"field\":\"y\"}},\"id\":\"2495\",\"type\":\"Line\"},{\"attributes\":{},\"id\":\"2485\",\"type\":\"AllLabels\"},{\"attributes\":{},\"id\":\"2465\",\"type\":\"SaveTool\"},{\"attributes\":{},\"id\":\"2529\",\"type\":\"Selection\"},{\"attributes\":{\"line_color\":\"green\",\"x\":{\"field\":\"x\"},\"y\":{\"field\":\"y\"}},\"id\":\"2512\",\"type\":\"Line\"},{\"attributes\":{},\"id\":\"2486\",\"type\":\"BasicTickFormatter\"},{\"attributes\":{\"label\":{\"value\":\"2\"},\"renderers\":[{\"id\":\"2496\"}]},\"id\":\"2510\",\"type\":\"LegendItem\"},{\"attributes\":{\"bottom_units\":\"screen\",\"fill_alpha\":0.5,\"fill_color\":\"lightgrey\",\"left_units\":\"screen\",\"level\":\"overlay\",\"line_alpha\":1.0,\"line_color\":\"black\",\"line_dash\":[4,4],\"line_width\":2,\"right_units\":\"screen\",\"syncable\":false,\"top_units\":\"screen\"},\"id\":\"2468\",\"type\":\"BoxAnnotation\"},{\"attributes\":{\"line_alpha\":0.1,\"line_color\":\"red\",\"x\":{\"field\":\"x\"},\"y\":{\"field\":\"y\"}},\"id\":\"2478\",\"type\":\"Line\"},{\"attributes\":{\"axis\":{\"id\":\"2458\"},\"dimension\":1,\"ticker\":null},\"id\":\"2461\",\"type\":\"Grid\"},{\"attributes\":{\"axis_label\":\"avergae run time (s)\",\"formatter\":{\"id\":\"2483\"},\"major_label_policy\":{\"id\":\"2482\"},\"ticker\":{\"id\":\"2459\"}},\"id\":\"2458\",\"type\":\"LinearAxis\"},{\"attributes\":{},\"id\":\"2466\",\"type\":\"ResetTool\"},{\"attributes\":{},\"id\":\"2462\",\"type\":\"PanTool\"},{\"attributes\":{},\"id\":\"2446\",\"type\":\"DataRange1d\"},{\"attributes\":{},\"id\":\"2489\",\"type\":\"UnionRenderers\"},{\"attributes\":{},\"id\":\"2467\",\"type\":\"HelpTool\"},{\"attributes\":{\"line_color\":\"red\",\"x\":{\"field\":\"x\"},\"y\":{\"field\":\"y\"}},\"id\":\"2477\",\"type\":\"Line\"},{\"attributes\":{\"overlay\":{\"id\":\"2468\"}},\"id\":\"2464\",\"type\":\"BoxZoomTool\"},{\"attributes\":{},\"id\":\"2490\",\"type\":\"Selection\"},{\"attributes\":{\"label\":{\"value\":\"1\"},\"renderers\":[{\"id\":\"2479\"}]},\"id\":\"2492\",\"type\":\"LegendItem\"},{\"attributes\":{\"data_source\":{\"id\":\"2476\"},\"glyph\":{\"id\":\"2477\"},\"hover_glyph\":null,\"muted_glyph\":null,\"nonselection_glyph\":{\"id\":\"2478\"},\"view\":{\"id\":\"2480\"}},\"id\":\"2479\",\"type\":\"GlyphRenderer\"},{\"attributes\":{},\"id\":\"2508\",\"type\":\"UnionRenderers\"},{\"attributes\":{\"axis_label\":\"size of |Y|\",\"formatter\":{\"id\":\"2486\"},\"major_label_policy\":{\"id\":\"2485\"},\"ticker\":{\"id\":\"2455\"}},\"id\":\"2454\",\"type\":\"LinearAxis\"},{\"attributes\":{\"data\":{\"x\":[1,11,21,31,41,51,61,71,81,91,101,111,121,131,141,151,161,171,181,191],\"y\":{\"__ndarray__\":\"F9DFzRKnBcCRp6/qjHbwv/rLsGld9+u/BnLtU04k57/0kwmHLtTlv7ulWftD8eG/TKg3e5e24r+aqxxlK8biv3eEeTTeKOC/VTWJtlRM4L8tUecNlvbdv7DL9/LOft2/Lceb5YnD3r/abhDxz1Hav8KDpkdiYti/LtIWLmkI2r/+sQtAYnvZv3L9kHnYf9i/RsuEBfmB2L/SZnVZNK/Yvw==\",\"dtype\":\"float64\",\"order\":\"little\",\"shape\":[20]}},\"selected\":{\"id\":\"2551\"},\"selection_policy\":{\"id\":\"2550\"}},\"id\":\"2531\",\"type\":\"ColumnDataSource\"},{\"attributes\":{\"source\":{\"id\":\"2511\"}},\"id\":\"2515\",\"type\":\"CDSView\"},{\"attributes\":{\"data_source\":{\"id\":\"2531\"},\"glyph\":{\"id\":\"2532\"},\"hover_glyph\":null,\"muted_glyph\":null,\"nonselection_glyph\":{\"id\":\"2533\"},\"view\":{\"id\":\"2535\"}},\"id\":\"2534\",\"type\":\"GlyphRenderer\"},{\"attributes\":{\"data\":{\"x\":[1,11,21,31,41,51,61,71,81,91,101,111,121,131,141,151,161,171,181,191],\"y\":{\"__ndarray__\":\"vRMcFhGnBcAEtzfR8yXwv0ao3hDxdOi/wgYrm0fN5b/rM9Nbmj3lv+T9tK/oLeG/+vTk74Kf4b9uCdWLUzXhv4OjUBSeDNy/g16IVRCE3b+em4bfiqnZvy0UJxEgbdq/om8udQsT3b+O622x0nfXv2qvduIAQtK/pgq4UDkq1r/wpwgSgcjYv4J+Cq22rtW/Lvucwany0r8Ov9sGrLDUvw==\",\"dtype\":\"float64\",\"order\":\"little\",\"shape\":[20]}},\"selected\":{\"id\":\"2490\"},\"selection_policy\":{\"id\":\"2489\"}},\"id\":\"2476\",\"type\":\"ColumnDataSource\"},{\"attributes\":{\"text\":\"avg run time\"},\"id\":\"2444\",\"type\":\"Title\"},{\"attributes\":{},\"id\":\"2459\",\"type\":\"BasicTicker\"},{\"attributes\":{},\"id\":\"2463\",\"type\":\"WheelZoomTool\"},{\"attributes\":{\"data\":{\"x\":[1,11,21,31,41,51,61,71,81,91,101,111,121,131,141,151,161,171,181,191],\"y\":{\"__ndarray__\":\"55tWDBOnBcB79NAzbCTwv0aEC0fhgOu/cPuCfxEa5r9FDSzapNflvx4gUgGCs+G/rkeNfVKw4r+S30FuTWjiv1MxVn8C5N+/Vsgc5LPl378TVpoT88fdv/1pAil3GN2/St4uiF7G3r+AtUYvSxHav/wYNubXONi/2t8B413S2L/TkMDV3qLZvxR5ldCKUde/miu+xNpA2L+exPADravYvw==\",\"dtype\":\"float64\",\"order\":\"little\",\"shape\":[20]}},\"selected\":{\"id\":\"2529\"},\"selection_policy\":{\"id\":\"2528\"}},\"id\":\"2511\",\"type\":\"ColumnDataSource\"},{\"attributes\":{\"source\":{\"id\":\"2476\"}},\"id\":\"2480\",\"type\":\"CDSView\"},{\"attributes\":{\"data_source\":{\"id\":\"2511\"},\"glyph\":{\"id\":\"2512\"},\"hover_glyph\":null,\"muted_glyph\":null,\"nonselection_glyph\":{\"id\":\"2513\"},\"view\":{\"id\":\"2515\"}},\"id\":\"2514\",\"type\":\"GlyphRenderer\"},{\"attributes\":{\"active_multi\":null,\"tools\":[{\"id\":\"2462\"},{\"id\":\"2463\"},{\"id\":\"2464\"},{\"id\":\"2465\"},{\"id\":\"2466\"},{\"id\":\"2467\"}]},\"id\":\"2469\",\"type\":\"Toolbar\"},{\"attributes\":{\"source\":{\"id\":\"2531\"}},\"id\":\"2535\",\"type\":\"CDSView\"},{\"attributes\":{\"items\":[{\"id\":\"2492\"},{\"id\":\"2510\"},{\"id\":\"2530\"},{\"id\":\"2552\"}]},\"id\":\"2491\",\"type\":\"Legend\"},{\"attributes\":{\"axis\":{\"id\":\"2454\"},\"ticker\":null},\"id\":\"2457\",\"type\":\"Grid\"},{\"attributes\":{\"line_alpha\":0.1,\"x\":{\"field\":\"x\"},\"y\":{\"field\":\"y\"}},\"id\":\"2533\",\"type\":\"Line\"},{\"attributes\":{\"label\":{\"value\":\"4\"},\"renderers\":[{\"id\":\"2534\"}]},\"id\":\"2552\",\"type\":\"LegendItem\"}],\"root_ids\":[\"2443\"]},\"title\":\"Bokeh Application\",\"version\":\"2.3.2\"}};\n  var render_items = [{\"docid\":\"0ed531d2-c77e-4cf4-923c-f5c262da2ce8\",\"root_ids\":[\"2443\"],\"roots\":{\"2443\":\"1af5692b-d809-414d-b7d7-f8cf115a8de2\"}}];\n  root.Bokeh.embed.embed_items_notebook(docs_json, render_items);\n\n  }\n  if (root.Bokeh !== undefined) {\n    embed_document(root);\n  } else {\n    var attempts = 0;\n    var timer = setInterval(function(root) {\n      if (root.Bokeh !== undefined) {\n        clearInterval(timer);\n        embed_document(root);\n      } else {\n        attempts++;\n        if (attempts > 100) {\n          clearInterval(timer);\n          console.log(\"Bokeh: ERROR: Unable to run BokehJS code because BokehJS library is missing\");\n        }\n      }\n    }, 10, root)\n  }\n})(window);",
      "application/vnd.bokehjs_exec.v0+json": ""
     },
     "metadata": {
      "application/vnd.bokehjs_exec.v0+json": {
       "id": "2443"
      }
     },
     "output_type": "display_data"
    }
   ],
   "source": [
    "l2_tries = pd.read_csv('l2_numTries_res.csv')\n",
    "avgl2_NT = l2_tries.groupby(['size', 'numTries']).mean()\n",
    "tries = {}\n",
    "for i in range(1,5):\n",
    "    tries[i] = l2_tries[l2_tries['numTries'] == i]\n",
    "    tries[i] = tries[i].groupby('size').mean()\n",
    "size = [1+10*i for i in range(len(tries[1]))]\n",
    "\n",
    "def visualise_tries():\n",
    "    p = figure(title = f'avg run time', plot_width = 900, x_axis_label = 'size of |Y|', y_axis_label = 'avergae run time (s)')\n",
    "    colors = [' ', 'red', 'blue', 'green', 'black']\n",
    "    for i in range(1,5):\n",
    "        p.line(size, tries[i].fmin, color = colors[i], legend_label = str(i))\n",
    "    show(p)\n",
    "\n",
    "visualise_tries()"
   ]
  },
  {
   "cell_type": "code",
   "execution_count": 10,
   "metadata": {},
   "outputs": [
    {
     "data": {
      "text/html": [
       "\n",
       "\n",
       "\n",
       "\n",
       "\n",
       "\n",
       "  <div class=\"bk-root\" id=\"1fae59b4-97a8-420a-83c6-b53e4fe09e81\" data-root-id=\"2181\"></div>\n"
      ]
     },
     "metadata": {},
     "output_type": "display_data"
    },
    {
     "data": {
      "application/javascript": "(function(root) {\n  function embed_document(root) {\n    \n  var docs_json = {\"7db74bea-46f5-45d4-b55a-33f408f03f08\":{\"defs\":[],\"roots\":{\"references\":[{\"attributes\":{\"below\":[{\"id\":\"2192\"}],\"center\":[{\"id\":\"2195\"},{\"id\":\"2199\"},{\"id\":\"2229\"}],\"left\":[{\"id\":\"2196\"}],\"renderers\":[{\"id\":\"2217\"},{\"id\":\"2234\"},{\"id\":\"2252\"},{\"id\":\"2272\"},{\"id\":\"2294\"}],\"title\":{\"id\":\"2182\"},\"toolbar\":{\"id\":\"2207\"},\"width\":900,\"x_range\":{\"id\":\"2184\"},\"x_scale\":{\"id\":\"2188\"},\"y_range\":{\"id\":\"2186\"},\"y_scale\":{\"id\":\"2190\"}},\"id\":\"2181\",\"subtype\":\"Figure\",\"type\":\"Plot\"},{\"attributes\":{},\"id\":\"2201\",\"type\":\"WheelZoomTool\"},{\"attributes\":{},\"id\":\"2184\",\"type\":\"DataRange1d\"},{\"attributes\":{},\"id\":\"2204\",\"type\":\"ResetTool\"},{\"attributes\":{},\"id\":\"2223\",\"type\":\"AllLabels\"},{\"attributes\":{\"text\":\"avg run time\"},\"id\":\"2182\",\"type\":\"Title\"},{\"attributes\":{\"data\":{\"x\":[1,11,21,31,41,51,61,71,81,91,101,111,121,131,141,151,161,171,181,191],\"y\":{\"__ndarray__\":\"IEKd5whPuz/q0kyqhz7PPyNRec5u2rI/X4VKEjreuD8BwP31FD3BP6TElixTPcY/u2FcI+KD3j+7UCLF5VjGP00uBW6du8E/e/mLQ3fl4D+G7LiwGYjgP92Z4pmrmc4/ZpoLt9cdyj+blj8zzVrmP13ERrt7QNU/WLl6C/BY2T8u6Arlbs/pPxccbzzpnuM/KCGp5U2F6D9qDsf1GrvpPw==\",\"dtype\":\"float64\",\"order\":\"little\",\"shape\":[20]}},\"selected\":{\"id\":\"2312\"},\"selection_policy\":{\"id\":\"2311\"}},\"id\":\"2291\",\"type\":\"ColumnDataSource\"},{\"attributes\":{},\"id\":\"2203\",\"type\":\"SaveTool\"},{\"attributes\":{\"data_source\":{\"id\":\"2291\"},\"glyph\":{\"id\":\"2292\"},\"hover_glyph\":null,\"muted_glyph\":null,\"nonselection_glyph\":{\"id\":\"2293\"},\"view\":{\"id\":\"2295\"}},\"id\":\"2294\",\"type\":\"GlyphRenderer\"},{\"attributes\":{},\"id\":\"2225\",\"type\":\"BasicTickFormatter\"},{\"attributes\":{\"data_source\":{\"id\":\"2269\"},\"glyph\":{\"id\":\"2270\"},\"hover_glyph\":null,\"muted_glyph\":null,\"nonselection_glyph\":{\"id\":\"2271\"},\"view\":{\"id\":\"2273\"}},\"id\":\"2272\",\"type\":\"GlyphRenderer\"},{\"attributes\":{\"line_color\":\"red\",\"x\":{\"field\":\"x\"},\"y\":{\"field\":\"y\"}},\"id\":\"2270\",\"type\":\"Line\"},{\"attributes\":{\"data\":{\"x\":[1,11,21,31,41,51,61,71,81,91,101,111,121,131,141,151,161,171,181,191],\"y\":{\"__ndarray__\":\"b8obKoZHxT9bweYID13VP/JvqeB2ZOE/MDuUvTaWyz/teti5mCfLP2YFbOqo4cU/DhRRO9ea1z8KwkpCeC3aP9FefTz0XeE/mJNsBlMMzT9ywdpOmwXWP6Zm0yzwV9g/o0TC49Hw3T96zPbX4SbhP+XxQF2Ostw/FR86HJju3T8qQpnm14/iP2Yi/LX7WOU/Qj+uaM4l4z+7CojVzwbiPw==\",\"dtype\":\"float64\",\"order\":\"little\",\"shape\":[20]}},\"selected\":{\"id\":\"2227\"},\"selection_policy\":{\"id\":\"2226\"}},\"id\":\"2214\",\"type\":\"ColumnDataSource\"},{\"attributes\":{\"line_color\":\"purple\",\"x\":{\"field\":\"x\"},\"y\":{\"field\":\"y\"}},\"id\":\"2232\",\"type\":\"Line\"},{\"attributes\":{\"data\":{\"x\":[1,11,21,31,41,51,61,71,81,91,101,111,121,131,141,151,161,171,181,191],\"y\":{\"__ndarray__\":\"4xpHNtxK1j+jC+pb5vSyP7XPyy692aY/OPis7VlXrD9FNKQMiFC8P+vcHP0b87A/1ZvyXC+qqT+NkC8ZtgquP8gH78LFd8Q/mpi5/5LUvD/eJ1TihAq5PwaQEt3p5cQ/UDLe+8Da1D+Q1mZM0q/MPw0dlmE359g/s/P5iQPfvz/G0I50NjfiP3ax0mSLK9Q/4AwwS7H+yz9et0c5WPvaPw==\",\"dtype\":\"float64\",\"order\":\"little\",\"shape\":[20]}},\"selected\":{\"id\":\"2288\"},\"selection_policy\":{\"id\":\"2287\"}},\"id\":\"2269\",\"type\":\"ColumnDataSource\"},{\"attributes\":{\"overlay\":{\"id\":\"2206\"}},\"id\":\"2202\",\"type\":\"BoxZoomTool\"},{\"attributes\":{\"axis_label\":\"avergae run time (s)\",\"formatter\":{\"id\":\"2222\"},\"major_label_policy\":{\"id\":\"2220\"},\"ticker\":{\"id\":\"2197\"}},\"id\":\"2196\",\"type\":\"LinearAxis\"},{\"attributes\":{},\"id\":\"2188\",\"type\":\"LinearScale\"},{\"attributes\":{\"data\":{\"x\":[1,11,21,31,41,51,61,71,81,91,101,111,121,131,141,151,161,171,181,191],\"y\":{\"__ndarray__\":\"4R9+3EhCxj+SON7uu/LjP+teQEnnnqo/Iqhf/zwotD88+ahKUerCP351iW3BALk/q9lV0MUCuz/iw2rAoITFP+YR9gqfdrY/IpSguhcqvz+F9+8fJvjLP901Y4Dkt9E/2G7X3GzrxT/X7Hmc+PLjP2wwQZDyAck/Ih7kUBrFwD9KmEIPkGLJP2WYPKG878k/sCVNQxlx4T9aYlYJxT/HPw==\",\"dtype\":\"float64\",\"order\":\"little\",\"shape\":[20]}},\"selected\":{\"id\":\"2266\"},\"selection_policy\":{\"id\":\"2265\"}},\"id\":\"2249\",\"type\":\"ColumnDataSource\"},{\"attributes\":{\"data\":{\"x\":[1,11,21,31,41,51,61,71,81,91,101,111,121,131,141,151,161,171,181,191],\"y\":{\"__ndarray__\":\"00wgKJwdzT/ejkUjs8S3P1LkZ99wMbU/7UmUidjxsT8CyogGh2m0P36UuqiCv74/YUabHGNLuD8vWQxLuUO3P254C3aUYsA/2NPnkoXCvT8gOVR2M4i8P75mLjHMybw/3jAD7YRSwj8ynmx6PMPIPxg88UF0LcY/zmieseWUyD+7QkYYKwfQP604IzMojck/a1L/2QW1yj8tvQaZ9d3PPw==\",\"dtype\":\"float64\",\"order\":\"little\",\"shape\":[20]}},\"selected\":{\"id\":\"2246\"},\"selection_policy\":{\"id\":\"2245\"}},\"id\":\"2231\",\"type\":\"ColumnDataSource\"},{\"attributes\":{\"items\":[{\"id\":\"2230\"},{\"id\":\"2248\"},{\"id\":\"2268\"},{\"id\":\"2290\"},{\"id\":\"2314\"}]},\"id\":\"2229\",\"type\":\"Legend\"},{\"attributes\":{\"data_source\":{\"id\":\"2249\"},\"glyph\":{\"id\":\"2250\"},\"hover_glyph\":null,\"muted_glyph\":null,\"nonselection_glyph\":{\"id\":\"2251\"},\"view\":{\"id\":\"2253\"}},\"id\":\"2252\",\"type\":\"GlyphRenderer\"},{\"attributes\":{\"data_source\":{\"id\":\"2231\"},\"glyph\":{\"id\":\"2232\"},\"hover_glyph\":null,\"muted_glyph\":null,\"nonselection_glyph\":{\"id\":\"2233\"},\"view\":{\"id\":\"2235\"}},\"id\":\"2234\",\"type\":\"GlyphRenderer\"},{\"attributes\":{},\"id\":\"2200\",\"type\":\"PanTool\"},{\"attributes\":{},\"id\":\"2193\",\"type\":\"BasicTicker\"},{\"attributes\":{\"line_color\":\"blue\",\"x\":{\"field\":\"x\"},\"y\":{\"field\":\"y\"}},\"id\":\"2215\",\"type\":\"Line\"},{\"attributes\":{\"line_alpha\":0.1,\"line_color\":\"green\",\"x\":{\"field\":\"x\"},\"y\":{\"field\":\"y\"}},\"id\":\"2293\",\"type\":\"Line\"},{\"attributes\":{\"source\":{\"id\":\"2291\"}},\"id\":\"2295\",\"type\":\"CDSView\"},{\"attributes\":{},\"id\":\"2220\",\"type\":\"AllLabels\"},{\"attributes\":{},\"id\":\"2190\",\"type\":\"LinearScale\"},{\"attributes\":{\"axis\":{\"id\":\"2192\"},\"ticker\":null},\"id\":\"2195\",\"type\":\"Grid\"},{\"attributes\":{},\"id\":\"2197\",\"type\":\"BasicTicker\"},{\"attributes\":{},\"id\":\"2222\",\"type\":\"BasicTickFormatter\"},{\"attributes\":{\"label\":{\"value\":\"4(k+1)\"},\"renderers\":[{\"id\":\"2294\"}]},\"id\":\"2314\",\"type\":\"LegendItem\"},{\"attributes\":{\"line_alpha\":0.1,\"line_color\":\"blue\",\"x\":{\"field\":\"x\"},\"y\":{\"field\":\"y\"}},\"id\":\"2216\",\"type\":\"Line\"},{\"attributes\":{\"axis\":{\"id\":\"2196\"},\"dimension\":1,\"ticker\":null},\"id\":\"2199\",\"type\":\"Grid\"},{\"attributes\":{},\"id\":\"2186\",\"type\":\"DataRange1d\"},{\"attributes\":{\"line_alpha\":0.1,\"line_color\":\"red\",\"x\":{\"field\":\"x\"},\"y\":{\"field\":\"y\"}},\"id\":\"2271\",\"type\":\"Line\"},{\"attributes\":{\"source\":{\"id\":\"2269\"}},\"id\":\"2273\",\"type\":\"CDSView\"},{\"attributes\":{\"line_alpha\":0.1,\"line_color\":\"orange\",\"x\":{\"field\":\"x\"},\"y\":{\"field\":\"y\"}},\"id\":\"2251\",\"type\":\"Line\"},{\"attributes\":{\"line_alpha\":0.1,\"line_color\":\"purple\",\"x\":{\"field\":\"x\"},\"y\":{\"field\":\"y\"}},\"id\":\"2233\",\"type\":\"Line\"},{\"attributes\":{\"source\":{\"id\":\"2249\"}},\"id\":\"2253\",\"type\":\"CDSView\"},{\"attributes\":{\"line_color\":\"green\",\"x\":{\"field\":\"x\"},\"y\":{\"field\":\"y\"}},\"id\":\"2292\",\"type\":\"Line\"},{\"attributes\":{\"label\":{\"value\":\"2(k+1)\"},\"renderers\":[{\"id\":\"2272\"}]},\"id\":\"2290\",\"type\":\"LegendItem\"},{\"attributes\":{\"source\":{\"id\":\"2231\"}},\"id\":\"2235\",\"type\":\"CDSView\"},{\"attributes\":{},\"id\":\"2226\",\"type\":\"UnionRenderers\"},{\"attributes\":{\"line_color\":\"orange\",\"x\":{\"field\":\"x\"},\"y\":{\"field\":\"y\"}},\"id\":\"2250\",\"type\":\"Line\"},{\"attributes\":{\"label\":{\"value\":\"k+1\"},\"renderers\":[{\"id\":\"2252\"}]},\"id\":\"2268\",\"type\":\"LegendItem\"},{\"attributes\":{},\"id\":\"2227\",\"type\":\"Selection\"},{\"attributes\":{\"label\":{\"value\":\"0.5(k+1)\"},\"renderers\":[{\"id\":\"2234\"}]},\"id\":\"2248\",\"type\":\"LegendItem\"},{\"attributes\":{\"data_source\":{\"id\":\"2214\"},\"glyph\":{\"id\":\"2215\"},\"hover_glyph\":null,\"muted_glyph\":null,\"nonselection_glyph\":{\"id\":\"2216\"},\"view\":{\"id\":\"2218\"}},\"id\":\"2217\",\"type\":\"GlyphRenderer\"},{\"attributes\":{},\"id\":\"2311\",\"type\":\"UnionRenderers\"},{\"attributes\":{\"bottom_units\":\"screen\",\"fill_alpha\":0.5,\"fill_color\":\"lightgrey\",\"left_units\":\"screen\",\"level\":\"overlay\",\"line_alpha\":1.0,\"line_color\":\"black\",\"line_dash\":[4,4],\"line_width\":2,\"right_units\":\"screen\",\"syncable\":false,\"top_units\":\"screen\"},\"id\":\"2206\",\"type\":\"BoxAnnotation\"},{\"attributes\":{\"label\":{\"value\":\"(k+1)^2\"},\"renderers\":[{\"id\":\"2217\"}]},\"id\":\"2230\",\"type\":\"LegendItem\"},{\"attributes\":{\"source\":{\"id\":\"2214\"}},\"id\":\"2218\",\"type\":\"CDSView\"},{\"attributes\":{},\"id\":\"2312\",\"type\":\"Selection\"},{\"attributes\":{},\"id\":\"2287\",\"type\":\"UnionRenderers\"},{\"attributes\":{},\"id\":\"2288\",\"type\":\"Selection\"},{\"attributes\":{},\"id\":\"2265\",\"type\":\"UnionRenderers\"},{\"attributes\":{},\"id\":\"2266\",\"type\":\"Selection\"},{\"attributes\":{},\"id\":\"2245\",\"type\":\"UnionRenderers\"},{\"attributes\":{},\"id\":\"2246\",\"type\":\"Selection\"},{\"attributes\":{\"axis_label\":\"size of |Y|\",\"formatter\":{\"id\":\"2225\"},\"major_label_policy\":{\"id\":\"2223\"},\"ticker\":{\"id\":\"2193\"}},\"id\":\"2192\",\"type\":\"LinearAxis\"},{\"attributes\":{},\"id\":\"2205\",\"type\":\"HelpTool\"},{\"attributes\":{\"active_multi\":null,\"tools\":[{\"id\":\"2200\"},{\"id\":\"2201\"},{\"id\":\"2202\"},{\"id\":\"2203\"},{\"id\":\"2204\"},{\"id\":\"2205\"}]},\"id\":\"2207\",\"type\":\"Toolbar\"}],\"root_ids\":[\"2181\"]},\"title\":\"Bokeh Application\",\"version\":\"2.3.2\"}};\n  var render_items = [{\"docid\":\"7db74bea-46f5-45d4-b55a-33f408f03f08\",\"root_ids\":[\"2181\"],\"roots\":{\"2181\":\"1fae59b4-97a8-420a-83c6-b53e4fe09e81\"}}];\n  root.Bokeh.embed.embed_items_notebook(docs_json, render_items);\n\n  }\n  if (root.Bokeh !== undefined) {\n    embed_document(root);\n  } else {\n    var attempts = 0;\n    var timer = setInterval(function(root) {\n      if (root.Bokeh !== undefined) {\n        clearInterval(timer);\n        embed_document(root);\n      } else {\n        attempts++;\n        if (attempts > 100) {\n          clearInterval(timer);\n          console.log(\"Bokeh: ERROR: Unable to run BokehJS code because BokehJS library is missing\");\n        }\n      }\n    }, 10, root)\n  }\n})(window);",
      "application/vnd.bokehjs_exec.v0+json": ""
     },
     "metadata": {
      "application/vnd.bokehjs_exec.v0+json": {
       "id": "2181"
      }
     },
     "output_type": "display_data"
    }
   ],
   "source": [
    "types = {}\n",
    "for i in range(1,7):\n",
    "    types[i] = l2[l2['type'] == i]\n",
    "    types[i] = types[i].groupby('size').mean()\n",
    "size = [1+10*i for i in range(len(types[1]))]\n",
    "\n",
    "mapping = {1:\"(k+1)^2\", 5: \"0.5(k+1)\", 4:\"k+1\", 6:\"2(k+1)\", 2:\"4(k+1)\" }\n",
    "\n",
    "def visualise_types():\n",
    "    p = figure(title = f'avg run time', plot_width = 900, x_axis_label = 'size of |Y|', y_axis_label = 'avergae run time (s)')\n",
    "    colors = ['red', 'blue', 'green', 'black', 'orange', 'purple', 'red']\n",
    "    for i in mapping:\n",
    "        p.line(size, types[i].time, color = colors[i], legend_label = mapping[i])\n",
    "    show(p)\n",
    "\n",
    "visualise_types()"
   ]
  }
 ],
 "metadata": {
  "kernelspec": {
   "display_name": "base",
   "language": "python",
   "name": "python3"
  },
  "language_info": {
   "codemirror_mode": {
    "name": "ipython",
    "version": 3
   },
   "file_extension": ".py",
   "mimetype": "text/x-python",
   "name": "python",
   "nbconvert_exporter": "python",
   "pygments_lexer": "ipython3",
   "version": "3.8.8"
  },
  "orig_nbformat": 4
 },
 "nbformat": 4,
 "nbformat_minor": 2
}
